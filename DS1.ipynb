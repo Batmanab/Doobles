{
  "nbformat": 4,
  "nbformat_minor": 0,
  "metadata": {
    "colab": {
      "name": "DS1.ipynb",
      "provenance": [],
      "include_colab_link": true
    },
    "kernelspec": {
      "name": "python3",
      "display_name": "Python 3"
    }
  },
  "cells": [
    {
      "cell_type": "markdown",
      "metadata": {
        "id": "view-in-github",
        "colab_type": "text"
      },
      "source": [
        "<a href=\"https://colab.research.google.com/github/Batmanab/Doobles/blob/master/DS1.ipynb\" target=\"_parent\"><img src=\"https://colab.research.google.com/assets/colab-badge.svg\" alt=\"Open In Colab\"/></a>"
      ]
    },
    {
      "cell_type": "code",
      "metadata": {
        "id": "7Eit9bEFVoGR"
      },
      "source": [
        "import pandas as pd\n",
        "import numpy as np\n",
        "import matplotlib.pyplot as plt\n",
        "import seaborn as sns\n",
        "\n"
      ],
      "execution_count": 136,
      "outputs": []
    },
    {
      "cell_type": "code",
      "metadata": {
        "id": "bQKS2dBjXgcN"
      },
      "source": [
        "air_reserve = pd.read_csv('/content/drive/My Drive/Colab Notebooks/Data/air_reserve.csv')\n",
        "hpg_reserve = pd.read_csv('/content/drive/My Drive/Colab Notebooks/Data/hpg_reserve.csv')\n",
        "air_store_info = pd.read_csv('/content/drive/My Drive/Colab Notebooks/Data/air_store_info.csv')\n",
        "air_visit_data = pd.read_csv('/content/drive/My Drive/Colab Notebooks/Data/air_visit_data.csv')\n",
        "store_id_relation = pd.read_csv('/content/drive/My Drive/Colab Notebooks/Data/store_id_relation.csv')\n"
      ],
      "execution_count": 141,
      "outputs": []
    },
    {
      "cell_type": "code",
      "metadata": {
        "id": "X4INWvNZehIx",
        "outputId": "1744b8d8-8933-4882-aeff-7428891a72b6",
        "colab": {
          "base_uri": "https://localhost:8080/"
        }
      },
      "source": [
        "from google.colab import drive\n",
        "drive.mount('/content/drive')"
      ],
      "execution_count": 7,
      "outputs": [
        {
          "output_type": "stream",
          "text": [
            "Drive already mounted at /content/drive; to attempt to forcibly remount, call drive.mount(\"/content/drive\", force_remount=True).\n"
          ],
          "name": "stdout"
        }
      ]
    },
    {
      "cell_type": "markdown",
      "metadata": {
        "id": "d0sbA_XB6gMK"
      },
      "source": [
        "####Question 1"
      ]
    },
    {
      "cell_type": "code",
      "metadata": {
        "id": "oc8R0QuMxyjJ"
      },
      "source": [
        "air_reserve['year'] = pd.to_datetime(air_reserve['visit_datetime']).dt.year\n",
        "hpg_reserve['year'] = pd.to_datetime(hpg_reserve['visit_datetime']).dt.year"
      ],
      "execution_count": 80,
      "outputs": []
    },
    {
      "cell_type": "code",
      "metadata": {
        "id": "48989-RBzdo1"
      },
      "source": [
        "new_air_reserve = air_reserve.loc[air_reserve.year ==2016]\n",
        "new_air_reserve = new_air_reserve.drop(['year'],axis =1)\n"
      ],
      "execution_count": 85,
      "outputs": []
    },
    {
      "cell_type": "code",
      "metadata": {
        "id": "zoVCofbt0QPq"
      },
      "source": [
        "new_hpg_reserve = hpg_reserve.loc[hpg_reserve.year ==2016]\n",
        "new_hpg_reserve = new_hpg_reserve.drop(['year'],axis =1)"
      ],
      "execution_count": 89,
      "outputs": []
    },
    {
      "cell_type": "code",
      "metadata": {
        "id": "6ac3VJK3X4wy",
        "outputId": "bc688ab7-6b9a-48a3-b898-9399ac2ee386",
        "colab": {
          "base_uri": "https://localhost:8080/",
          "height": 343
        }
      },
      "source": [
        "new_air_reserve.head(10)\n",
        "\n"
      ],
      "execution_count": 87,
      "outputs": [
        {
          "output_type": "execute_result",
          "data": {
            "text/html": [
              "<div>\n",
              "<style scoped>\n",
              "    .dataframe tbody tr th:only-of-type {\n",
              "        vertical-align: middle;\n",
              "    }\n",
              "\n",
              "    .dataframe tbody tr th {\n",
              "        vertical-align: top;\n",
              "    }\n",
              "\n",
              "    .dataframe thead th {\n",
              "        text-align: right;\n",
              "    }\n",
              "</style>\n",
              "<table border=\"1\" class=\"dataframe\">\n",
              "  <thead>\n",
              "    <tr style=\"text-align: right;\">\n",
              "      <th></th>\n",
              "      <th>air_store_id</th>\n",
              "      <th>visit_datetime</th>\n",
              "      <th>reserve_datetime</th>\n",
              "      <th>reserve_visitors</th>\n",
              "      <th>new_store_name</th>\n",
              "    </tr>\n",
              "  </thead>\n",
              "  <tbody>\n",
              "    <tr>\n",
              "      <th>0</th>\n",
              "      <td>air_877f79706adbfb06</td>\n",
              "      <td>2016-01-01 19:00:00</td>\n",
              "      <td>2016-01-01 16:00:00</td>\n",
              "      <td>1</td>\n",
              "      <td>_877f79706adbfb06</td>\n",
              "    </tr>\n",
              "    <tr>\n",
              "      <th>1</th>\n",
              "      <td>air_db4b38ebe7a7ceff</td>\n",
              "      <td>2016-01-01 19:00:00</td>\n",
              "      <td>2016-01-01 19:00:00</td>\n",
              "      <td>3</td>\n",
              "      <td>_db4b38ebe7a7ceff</td>\n",
              "    </tr>\n",
              "    <tr>\n",
              "      <th>2</th>\n",
              "      <td>air_db4b38ebe7a7ceff</td>\n",
              "      <td>2016-01-01 19:00:00</td>\n",
              "      <td>2016-01-01 19:00:00</td>\n",
              "      <td>6</td>\n",
              "      <td>_db4b38ebe7a7ceff</td>\n",
              "    </tr>\n",
              "    <tr>\n",
              "      <th>3</th>\n",
              "      <td>air_877f79706adbfb06</td>\n",
              "      <td>2016-01-01 20:00:00</td>\n",
              "      <td>2016-01-01 16:00:00</td>\n",
              "      <td>2</td>\n",
              "      <td>_877f79706adbfb06</td>\n",
              "    </tr>\n",
              "    <tr>\n",
              "      <th>4</th>\n",
              "      <td>air_db80363d35f10926</td>\n",
              "      <td>2016-01-01 20:00:00</td>\n",
              "      <td>2016-01-01 01:00:00</td>\n",
              "      <td>5</td>\n",
              "      <td>_db80363d35f10926</td>\n",
              "    </tr>\n",
              "    <tr>\n",
              "      <th>5</th>\n",
              "      <td>air_db80363d35f10926</td>\n",
              "      <td>2016-01-02 01:00:00</td>\n",
              "      <td>2016-01-01 16:00:00</td>\n",
              "      <td>2</td>\n",
              "      <td>_db80363d35f10926</td>\n",
              "    </tr>\n",
              "    <tr>\n",
              "      <th>6</th>\n",
              "      <td>air_db80363d35f10926</td>\n",
              "      <td>2016-01-02 01:00:00</td>\n",
              "      <td>2016-01-01 15:00:00</td>\n",
              "      <td>4</td>\n",
              "      <td>_db80363d35f10926</td>\n",
              "    </tr>\n",
              "    <tr>\n",
              "      <th>7</th>\n",
              "      <td>air_3bb99a1fe0583897</td>\n",
              "      <td>2016-01-02 16:00:00</td>\n",
              "      <td>2016-01-02 14:00:00</td>\n",
              "      <td>2</td>\n",
              "      <td>_3bb99a1fe0583897</td>\n",
              "    </tr>\n",
              "    <tr>\n",
              "      <th>8</th>\n",
              "      <td>air_3bb99a1fe0583897</td>\n",
              "      <td>2016-01-02 16:00:00</td>\n",
              "      <td>2016-01-01 20:00:00</td>\n",
              "      <td>2</td>\n",
              "      <td>_3bb99a1fe0583897</td>\n",
              "    </tr>\n",
              "    <tr>\n",
              "      <th>9</th>\n",
              "      <td>air_2b8b29ddfd35018e</td>\n",
              "      <td>2016-01-02 17:00:00</td>\n",
              "      <td>2016-01-02 17:00:00</td>\n",
              "      <td>2</td>\n",
              "      <td>_2b8b29ddfd35018e</td>\n",
              "    </tr>\n",
              "  </tbody>\n",
              "</table>\n",
              "</div>"
            ],
            "text/plain": [
              "           air_store_id  ...     new_store_name\n",
              "0  air_877f79706adbfb06  ...  _877f79706adbfb06\n",
              "1  air_db4b38ebe7a7ceff  ...  _db4b38ebe7a7ceff\n",
              "2  air_db4b38ebe7a7ceff  ...  _db4b38ebe7a7ceff\n",
              "3  air_877f79706adbfb06  ...  _877f79706adbfb06\n",
              "4  air_db80363d35f10926  ...  _db80363d35f10926\n",
              "5  air_db80363d35f10926  ...  _db80363d35f10926\n",
              "6  air_db80363d35f10926  ...  _db80363d35f10926\n",
              "7  air_3bb99a1fe0583897  ...  _3bb99a1fe0583897\n",
              "8  air_3bb99a1fe0583897  ...  _3bb99a1fe0583897\n",
              "9  air_2b8b29ddfd35018e  ...  _2b8b29ddfd35018e\n",
              "\n",
              "[10 rows x 5 columns]"
            ]
          },
          "metadata": {
            "tags": []
          },
          "execution_count": 87
        }
      ]
    },
    {
      "cell_type": "code",
      "metadata": {
        "id": "Pu_PZEDlYEs3",
        "outputId": "01255def-b20d-4e81-d5fb-c545a2b3b171",
        "colab": {
          "base_uri": "https://localhost:8080/",
          "height": 343
        }
      },
      "source": [
        "new_hpg_reserve.head(10)\n"
      ],
      "execution_count": 90,
      "outputs": [
        {
          "output_type": "execute_result",
          "data": {
            "text/html": [
              "<div>\n",
              "<style scoped>\n",
              "    .dataframe tbody tr th:only-of-type {\n",
              "        vertical-align: middle;\n",
              "    }\n",
              "\n",
              "    .dataframe tbody tr th {\n",
              "        vertical-align: top;\n",
              "    }\n",
              "\n",
              "    .dataframe thead th {\n",
              "        text-align: right;\n",
              "    }\n",
              "</style>\n",
              "<table border=\"1\" class=\"dataframe\">\n",
              "  <thead>\n",
              "    <tr style=\"text-align: right;\">\n",
              "      <th></th>\n",
              "      <th>hpg_store_id</th>\n",
              "      <th>visit_datetime</th>\n",
              "      <th>reserve_datetime</th>\n",
              "      <th>reserve_visitors</th>\n",
              "      <th>new_store_name</th>\n",
              "    </tr>\n",
              "  </thead>\n",
              "  <tbody>\n",
              "    <tr>\n",
              "      <th>0</th>\n",
              "      <td>hpg_c63f6f42e088e50f</td>\n",
              "      <td>2016-01-01 11:00:00</td>\n",
              "      <td>2016-01-01 09:00:00</td>\n",
              "      <td>1</td>\n",
              "      <td>_c63f6f42e088e50f</td>\n",
              "    </tr>\n",
              "    <tr>\n",
              "      <th>1</th>\n",
              "      <td>hpg_dac72789163a3f47</td>\n",
              "      <td>2016-01-01 13:00:00</td>\n",
              "      <td>2016-01-01 06:00:00</td>\n",
              "      <td>3</td>\n",
              "      <td>_dac72789163a3f47</td>\n",
              "    </tr>\n",
              "    <tr>\n",
              "      <th>2</th>\n",
              "      <td>hpg_c8e24dcf51ca1eb5</td>\n",
              "      <td>2016-01-01 16:00:00</td>\n",
              "      <td>2016-01-01 14:00:00</td>\n",
              "      <td>2</td>\n",
              "      <td>_c8e24dcf51ca1eb5</td>\n",
              "    </tr>\n",
              "    <tr>\n",
              "      <th>3</th>\n",
              "      <td>hpg_24bb207e5fd49d4a</td>\n",
              "      <td>2016-01-01 17:00:00</td>\n",
              "      <td>2016-01-01 11:00:00</td>\n",
              "      <td>5</td>\n",
              "      <td>_24bb207e5fd49d4a</td>\n",
              "    </tr>\n",
              "    <tr>\n",
              "      <th>4</th>\n",
              "      <td>hpg_25291c542ebb3bc2</td>\n",
              "      <td>2016-01-01 17:00:00</td>\n",
              "      <td>2016-01-01 03:00:00</td>\n",
              "      <td>13</td>\n",
              "      <td>_25291c542ebb3bc2</td>\n",
              "    </tr>\n",
              "    <tr>\n",
              "      <th>5</th>\n",
              "      <td>hpg_28bdf7a336ec6a7b</td>\n",
              "      <td>2016-01-01 17:00:00</td>\n",
              "      <td>2016-01-01 15:00:00</td>\n",
              "      <td>2</td>\n",
              "      <td>_28bdf7a336ec6a7b</td>\n",
              "    </tr>\n",
              "    <tr>\n",
              "      <th>6</th>\n",
              "      <td>hpg_2a01a042bca04ad9</td>\n",
              "      <td>2016-01-01 17:00:00</td>\n",
              "      <td>2016-01-01 17:00:00</td>\n",
              "      <td>2</td>\n",
              "      <td>_2a01a042bca04ad9</td>\n",
              "    </tr>\n",
              "    <tr>\n",
              "      <th>7</th>\n",
              "      <td>hpg_2a84dd9f4c140b82</td>\n",
              "      <td>2016-01-01 17:00:00</td>\n",
              "      <td>2016-01-01 15:00:00</td>\n",
              "      <td>2</td>\n",
              "      <td>_2a84dd9f4c140b82</td>\n",
              "    </tr>\n",
              "    <tr>\n",
              "      <th>8</th>\n",
              "      <td>hpg_2ad179871696901f</td>\n",
              "      <td>2016-01-01 17:00:00</td>\n",
              "      <td>2016-01-01 13:00:00</td>\n",
              "      <td>2</td>\n",
              "      <td>_2ad179871696901f</td>\n",
              "    </tr>\n",
              "    <tr>\n",
              "      <th>9</th>\n",
              "      <td>hpg_2c1d989eedb0ff83</td>\n",
              "      <td>2016-01-01 17:00:00</td>\n",
              "      <td>2016-01-01 15:00:00</td>\n",
              "      <td>6</td>\n",
              "      <td>_2c1d989eedb0ff83</td>\n",
              "    </tr>\n",
              "  </tbody>\n",
              "</table>\n",
              "</div>"
            ],
            "text/plain": [
              "           hpg_store_id  ...     new_store_name\n",
              "0  hpg_c63f6f42e088e50f  ...  _c63f6f42e088e50f\n",
              "1  hpg_dac72789163a3f47  ...  _dac72789163a3f47\n",
              "2  hpg_c8e24dcf51ca1eb5  ...  _c8e24dcf51ca1eb5\n",
              "3  hpg_24bb207e5fd49d4a  ...  _24bb207e5fd49d4a\n",
              "4  hpg_25291c542ebb3bc2  ...  _25291c542ebb3bc2\n",
              "5  hpg_28bdf7a336ec6a7b  ...  _28bdf7a336ec6a7b\n",
              "6  hpg_2a01a042bca04ad9  ...  _2a01a042bca04ad9\n",
              "7  hpg_2a84dd9f4c140b82  ...  _2a84dd9f4c140b82\n",
              "8  hpg_2ad179871696901f  ...  _2ad179871696901f\n",
              "9  hpg_2c1d989eedb0ff83  ...  _2c1d989eedb0ff83\n",
              "\n",
              "[10 rows x 5 columns]"
            ]
          },
          "metadata": {
            "tags": []
          },
          "execution_count": 90
        }
      ]
    },
    {
      "cell_type": "code",
      "metadata": {
        "id": "N2O17nWPYk-F"
      },
      "source": [
        "air_reserve['new_store_name'] = air_reserve['air_store_id'].map(lambda x: x.lstrip('air'))\n",
        "hpg_reserve['new_store_name']= hpg_reserve['hpg_store_id'].map(lambda x: x.lstrip('hpg'))\n"
      ],
      "execution_count": 10,
      "outputs": []
    },
    {
      "cell_type": "code",
      "metadata": {
        "id": "uKVWokcpaFLH",
        "outputId": "2f6e7cf7-2686-4355-92e2-5afb99047cb5",
        "colab": {
          "base_uri": "https://localhost:8080/",
          "height": 431
        }
      },
      "source": [
        "air_reserve.groupby('new_store_name')['reserve_visitors'].agg(['sum'])"
      ],
      "execution_count": 11,
      "outputs": [
        {
          "output_type": "execute_result",
          "data": {
            "text/html": [
              "<div>\n",
              "<style scoped>\n",
              "    .dataframe tbody tr th:only-of-type {\n",
              "        vertical-align: middle;\n",
              "    }\n",
              "\n",
              "    .dataframe tbody tr th {\n",
              "        vertical-align: top;\n",
              "    }\n",
              "\n",
              "    .dataframe thead th {\n",
              "        text-align: right;\n",
              "    }\n",
              "</style>\n",
              "<table border=\"1\" class=\"dataframe\">\n",
              "  <thead>\n",
              "    <tr style=\"text-align: right;\">\n",
              "      <th></th>\n",
              "      <th>sum</th>\n",
              "    </tr>\n",
              "    <tr>\n",
              "      <th>new_store_name</th>\n",
              "      <th></th>\n",
              "    </tr>\n",
              "  </thead>\n",
              "  <tbody>\n",
              "    <tr>\n",
              "      <th>_00a91d42b08b08d9</th>\n",
              "      <td>70</td>\n",
              "    </tr>\n",
              "    <tr>\n",
              "      <th>_0164b9927d20bcc3</th>\n",
              "      <td>517</td>\n",
              "    </tr>\n",
              "    <tr>\n",
              "      <th>_034a3d5b40d5b1b1</th>\n",
              "      <td>93</td>\n",
              "    </tr>\n",
              "    <tr>\n",
              "      <th>_03963426c9312048</th>\n",
              "      <td>8200</td>\n",
              "    </tr>\n",
              "    <tr>\n",
              "      <th>_04341b588bde96cd</th>\n",
              "      <td>208</td>\n",
              "    </tr>\n",
              "    <tr>\n",
              "      <th>...</th>\n",
              "      <td>...</td>\n",
              "    </tr>\n",
              "    <tr>\n",
              "      <th>_fcfbdcf7b1f82c6e</th>\n",
              "      <td>333</td>\n",
              "    </tr>\n",
              "    <tr>\n",
              "      <th>_fdc02ec4a3d21ea4</th>\n",
              "      <td>166</td>\n",
              "    </tr>\n",
              "    <tr>\n",
              "      <th>_fe22ef5a9cbef123</th>\n",
              "      <td>1393</td>\n",
              "    </tr>\n",
              "    <tr>\n",
              "      <th>_fea5dc9594450608</th>\n",
              "      <td>471</td>\n",
              "    </tr>\n",
              "    <tr>\n",
              "      <th>_fee8dcf4d619598e</th>\n",
              "      <td>5</td>\n",
              "    </tr>\n",
              "  </tbody>\n",
              "</table>\n",
              "<p>314 rows × 1 columns</p>\n",
              "</div>"
            ],
            "text/plain": [
              "                    sum\n",
              "new_store_name         \n",
              "_00a91d42b08b08d9    70\n",
              "_0164b9927d20bcc3   517\n",
              "_034a3d5b40d5b1b1    93\n",
              "_03963426c9312048  8200\n",
              "_04341b588bde96cd   208\n",
              "...                 ...\n",
              "_fcfbdcf7b1f82c6e   333\n",
              "_fdc02ec4a3d21ea4   166\n",
              "_fe22ef5a9cbef123  1393\n",
              "_fea5dc9594450608   471\n",
              "_fee8dcf4d619598e     5\n",
              "\n",
              "[314 rows x 1 columns]"
            ]
          },
          "metadata": {
            "tags": []
          },
          "execution_count": 11
        }
      ]
    },
    {
      "cell_type": "code",
      "metadata": {
        "id": "DNU9N6u4bX4x",
        "outputId": "a2af46b2-7c83-4612-8b05-724b6f09e710",
        "colab": {
          "base_uri": "https://localhost:8080/",
          "height": 431
        }
      },
      "source": [
        "hpg_reserve.groupby('new_store_name')['reserve_visitors'].agg(['sum'])"
      ],
      "execution_count": 12,
      "outputs": [
        {
          "output_type": "execute_result",
          "data": {
            "text/html": [
              "<div>\n",
              "<style scoped>\n",
              "    .dataframe tbody tr th:only-of-type {\n",
              "        vertical-align: middle;\n",
              "    }\n",
              "\n",
              "    .dataframe tbody tr th {\n",
              "        vertical-align: top;\n",
              "    }\n",
              "\n",
              "    .dataframe thead th {\n",
              "        text-align: right;\n",
              "    }\n",
              "</style>\n",
              "<table border=\"1\" class=\"dataframe\">\n",
              "  <thead>\n",
              "    <tr style=\"text-align: right;\">\n",
              "      <th></th>\n",
              "      <th>sum</th>\n",
              "    </tr>\n",
              "    <tr>\n",
              "      <th>new_store_name</th>\n",
              "      <th></th>\n",
              "    </tr>\n",
              "  </thead>\n",
              "  <tbody>\n",
              "    <tr>\n",
              "      <th>_001112ef76b9802c</th>\n",
              "      <td>261</td>\n",
              "    </tr>\n",
              "    <tr>\n",
              "      <th>_001ce40a1f873e4f</th>\n",
              "      <td>821</td>\n",
              "    </tr>\n",
              "    <tr>\n",
              "      <th>_001f8de5120ce935</th>\n",
              "      <td>1510</td>\n",
              "    </tr>\n",
              "    <tr>\n",
              "      <th>_0023b061a9f3279a</th>\n",
              "      <td>476</td>\n",
              "    </tr>\n",
              "    <tr>\n",
              "      <th>_0025a7a2ddb76a01</th>\n",
              "      <td>177</td>\n",
              "    </tr>\n",
              "    <tr>\n",
              "      <th>...</th>\n",
              "      <td>...</td>\n",
              "    </tr>\n",
              "    <tr>\n",
              "      <th>_ffe96ca8c6ec10cf</th>\n",
              "      <td>1286</td>\n",
              "    </tr>\n",
              "    <tr>\n",
              "      <th>_fff8ec9cb3710638</th>\n",
              "      <td>280</td>\n",
              "    </tr>\n",
              "    <tr>\n",
              "      <th>_fffa3b36bc525136</th>\n",
              "      <td>228</td>\n",
              "    </tr>\n",
              "    <tr>\n",
              "      <th>_fffa98e9f58176a9</th>\n",
              "      <td>209</td>\n",
              "    </tr>\n",
              "    <tr>\n",
              "      <th>_fffc097dce87af3e</th>\n",
              "      <td>220</td>\n",
              "    </tr>\n",
              "  </tbody>\n",
              "</table>\n",
              "<p>13325 rows × 1 columns</p>\n",
              "</div>"
            ],
            "text/plain": [
              "                    sum\n",
              "new_store_name         \n",
              "_001112ef76b9802c   261\n",
              "_001ce40a1f873e4f   821\n",
              "_001f8de5120ce935  1510\n",
              "_0023b061a9f3279a   476\n",
              "_0025a7a2ddb76a01   177\n",
              "...                 ...\n",
              "_ffe96ca8c6ec10cf  1286\n",
              "_fff8ec9cb3710638   280\n",
              "_fffa3b36bc525136   228\n",
              "_fffa98e9f58176a9   209\n",
              "_fffc097dce87af3e   220\n",
              "\n",
              "[13325 rows x 1 columns]"
            ]
          },
          "metadata": {
            "tags": []
          },
          "execution_count": 12
        }
      ]
    },
    {
      "cell_type": "code",
      "metadata": {
        "id": "ahLizDVXbjWk",
        "outputId": "9f9abf3f-3ed4-46cd-a3cc-b2e96af54242",
        "colab": {
          "base_uri": "https://localhost:8080/",
          "height": 343
        }
      },
      "source": [
        "store_id_relation.head(10)"
      ],
      "execution_count": 13,
      "outputs": [
        {
          "output_type": "execute_result",
          "data": {
            "text/html": [
              "<div>\n",
              "<style scoped>\n",
              "    .dataframe tbody tr th:only-of-type {\n",
              "        vertical-align: middle;\n",
              "    }\n",
              "\n",
              "    .dataframe tbody tr th {\n",
              "        vertical-align: top;\n",
              "    }\n",
              "\n",
              "    .dataframe thead th {\n",
              "        text-align: right;\n",
              "    }\n",
              "</style>\n",
              "<table border=\"1\" class=\"dataframe\">\n",
              "  <thead>\n",
              "    <tr style=\"text-align: right;\">\n",
              "      <th></th>\n",
              "      <th>air_store_id</th>\n",
              "      <th>hpg_store_id</th>\n",
              "    </tr>\n",
              "  </thead>\n",
              "  <tbody>\n",
              "    <tr>\n",
              "      <th>0</th>\n",
              "      <td>air_63b13c56b7201bd9</td>\n",
              "      <td>hpg_4bc649e72e2a239a</td>\n",
              "    </tr>\n",
              "    <tr>\n",
              "      <th>1</th>\n",
              "      <td>air_a24bf50c3e90d583</td>\n",
              "      <td>hpg_c34b496d0305a809</td>\n",
              "    </tr>\n",
              "    <tr>\n",
              "      <th>2</th>\n",
              "      <td>air_c7f78b4f3cba33ff</td>\n",
              "      <td>hpg_cd8ae0d9bbd58ff9</td>\n",
              "    </tr>\n",
              "    <tr>\n",
              "      <th>3</th>\n",
              "      <td>air_947eb2cae4f3e8f2</td>\n",
              "      <td>hpg_de24ea49dc25d6b8</td>\n",
              "    </tr>\n",
              "    <tr>\n",
              "      <th>4</th>\n",
              "      <td>air_965b2e0cf4119003</td>\n",
              "      <td>hpg_653238a84804d8e7</td>\n",
              "    </tr>\n",
              "    <tr>\n",
              "      <th>5</th>\n",
              "      <td>air_a38f25e3399d1b25</td>\n",
              "      <td>hpg_50378da9ffb9b6cd</td>\n",
              "    </tr>\n",
              "    <tr>\n",
              "      <th>6</th>\n",
              "      <td>air_3c938075889fc059</td>\n",
              "      <td>hpg_349b1b92f98b175e</td>\n",
              "    </tr>\n",
              "    <tr>\n",
              "      <th>7</th>\n",
              "      <td>air_68301bcb11e2f389</td>\n",
              "      <td>hpg_2c09f3abb2220659</td>\n",
              "    </tr>\n",
              "    <tr>\n",
              "      <th>8</th>\n",
              "      <td>air_5f6fa1b897fe80d5</td>\n",
              "      <td>hpg_40aff6385800ebb1</td>\n",
              "    </tr>\n",
              "    <tr>\n",
              "      <th>9</th>\n",
              "      <td>air_00a91d42b08b08d9</td>\n",
              "      <td>hpg_fbe603376b5980fc</td>\n",
              "    </tr>\n",
              "  </tbody>\n",
              "</table>\n",
              "</div>"
            ],
            "text/plain": [
              "           air_store_id          hpg_store_id\n",
              "0  air_63b13c56b7201bd9  hpg_4bc649e72e2a239a\n",
              "1  air_a24bf50c3e90d583  hpg_c34b496d0305a809\n",
              "2  air_c7f78b4f3cba33ff  hpg_cd8ae0d9bbd58ff9\n",
              "3  air_947eb2cae4f3e8f2  hpg_de24ea49dc25d6b8\n",
              "4  air_965b2e0cf4119003  hpg_653238a84804d8e7\n",
              "5  air_a38f25e3399d1b25  hpg_50378da9ffb9b6cd\n",
              "6  air_3c938075889fc059  hpg_349b1b92f98b175e\n",
              "7  air_68301bcb11e2f389  hpg_2c09f3abb2220659\n",
              "8  air_5f6fa1b897fe80d5  hpg_40aff6385800ebb1\n",
              "9  air_00a91d42b08b08d9  hpg_fbe603376b5980fc"
            ]
          },
          "metadata": {
            "tags": []
          },
          "execution_count": 13
        }
      ]
    },
    {
      "cell_type": "code",
      "metadata": {
        "id": "Xi8wDl2Xb-s6",
        "outputId": "d9aa9e5b-e778-4af0-e65a-33e9391dccdd",
        "colab": {
          "base_uri": "https://localhost:8080/"
        }
      },
      "source": [
        "store_id_relation.shape\n"
      ],
      "execution_count": 14,
      "outputs": [
        {
          "output_type": "execute_result",
          "data": {
            "text/plain": [
              "(150, 2)"
            ]
          },
          "metadata": {
            "tags": []
          },
          "execution_count": 14
        }
      ]
    },
    {
      "cell_type": "code",
      "metadata": {
        "id": "v8V-cPlKcWOF"
      },
      "source": [
        "newHpg = new_hpg_reserve.groupby(['hpg_store_id'])['reserve_visitors'].agg('sum').to_frame('customer').reset_index()\n"
      ],
      "execution_count": 91,
      "outputs": []
    },
    {
      "cell_type": "code",
      "metadata": {
        "id": "d6_cjf0Te8m2",
        "outputId": "1dd4bb62-58ae-417b-ca7f-0db423d66fed",
        "colab": {
          "base_uri": "https://localhost:8080/",
          "height": 343
        }
      },
      "source": [
        "newHpg.head(10)\n"
      ],
      "execution_count": 92,
      "outputs": [
        {
          "output_type": "execute_result",
          "data": {
            "text/html": [
              "<div>\n",
              "<style scoped>\n",
              "    .dataframe tbody tr th:only-of-type {\n",
              "        vertical-align: middle;\n",
              "    }\n",
              "\n",
              "    .dataframe tbody tr th {\n",
              "        vertical-align: top;\n",
              "    }\n",
              "\n",
              "    .dataframe thead th {\n",
              "        text-align: right;\n",
              "    }\n",
              "</style>\n",
              "<table border=\"1\" class=\"dataframe\">\n",
              "  <thead>\n",
              "    <tr style=\"text-align: right;\">\n",
              "      <th></th>\n",
              "      <th>hpg_store_id</th>\n",
              "      <th>customer</th>\n",
              "    </tr>\n",
              "  </thead>\n",
              "  <tbody>\n",
              "    <tr>\n",
              "      <th>0</th>\n",
              "      <td>hpg_001112ef76b9802c</td>\n",
              "      <td>150</td>\n",
              "    </tr>\n",
              "    <tr>\n",
              "      <th>1</th>\n",
              "      <td>hpg_001ce40a1f873e4f</td>\n",
              "      <td>528</td>\n",
              "    </tr>\n",
              "    <tr>\n",
              "      <th>2</th>\n",
              "      <td>hpg_001f8de5120ce935</td>\n",
              "      <td>960</td>\n",
              "    </tr>\n",
              "    <tr>\n",
              "      <th>3</th>\n",
              "      <td>hpg_0023b061a9f3279a</td>\n",
              "      <td>308</td>\n",
              "    </tr>\n",
              "    <tr>\n",
              "      <th>4</th>\n",
              "      <td>hpg_0025a7a2ddb76a01</td>\n",
              "      <td>91</td>\n",
              "    </tr>\n",
              "    <tr>\n",
              "      <th>5</th>\n",
              "      <td>hpg_0025b2edb92f1a37</td>\n",
              "      <td>241</td>\n",
              "    </tr>\n",
              "    <tr>\n",
              "      <th>6</th>\n",
              "      <td>hpg_0025da1a9a15ce7a</td>\n",
              "      <td>421</td>\n",
              "    </tr>\n",
              "    <tr>\n",
              "      <th>7</th>\n",
              "      <td>hpg_0034f74a25be3cbe</td>\n",
              "      <td>1654</td>\n",
              "    </tr>\n",
              "    <tr>\n",
              "      <th>8</th>\n",
              "      <td>hpg_00394a75a35c427c</td>\n",
              "      <td>613</td>\n",
              "    </tr>\n",
              "    <tr>\n",
              "      <th>9</th>\n",
              "      <td>hpg_00418591affd6f00</td>\n",
              "      <td>925</td>\n",
              "    </tr>\n",
              "  </tbody>\n",
              "</table>\n",
              "</div>"
            ],
            "text/plain": [
              "           hpg_store_id  customer\n",
              "0  hpg_001112ef76b9802c       150\n",
              "1  hpg_001ce40a1f873e4f       528\n",
              "2  hpg_001f8de5120ce935       960\n",
              "3  hpg_0023b061a9f3279a       308\n",
              "4  hpg_0025a7a2ddb76a01        91\n",
              "5  hpg_0025b2edb92f1a37       241\n",
              "6  hpg_0025da1a9a15ce7a       421\n",
              "7  hpg_0034f74a25be3cbe      1654\n",
              "8  hpg_00394a75a35c427c       613\n",
              "9  hpg_00418591affd6f00       925"
            ]
          },
          "metadata": {
            "tags": []
          },
          "execution_count": 92
        }
      ]
    },
    {
      "cell_type": "code",
      "metadata": {
        "id": "kO2RlwCSfaYW"
      },
      "source": [
        "newAir = new_air_reserve.groupby(['air_store_id'])['reserve_visitors'].agg('sum').to_frame('customer').reset_index()\n"
      ],
      "execution_count": 93,
      "outputs": []
    },
    {
      "cell_type": "code",
      "metadata": {
        "id": "YV7MuUuyfjK7",
        "outputId": "3577f913-56fe-4784-d666-c96058716621",
        "colab": {
          "base_uri": "https://localhost:8080/",
          "height": 343
        }
      },
      "source": [
        "newAir.head(10)\n"
      ],
      "execution_count": 94,
      "outputs": [
        {
          "output_type": "execute_result",
          "data": {
            "text/html": [
              "<div>\n",
              "<style scoped>\n",
              "    .dataframe tbody tr th:only-of-type {\n",
              "        vertical-align: middle;\n",
              "    }\n",
              "\n",
              "    .dataframe tbody tr th {\n",
              "        vertical-align: top;\n",
              "    }\n",
              "\n",
              "    .dataframe thead th {\n",
              "        text-align: right;\n",
              "    }\n",
              "</style>\n",
              "<table border=\"1\" class=\"dataframe\">\n",
              "  <thead>\n",
              "    <tr style=\"text-align: right;\">\n",
              "      <th></th>\n",
              "      <th>air_store_id</th>\n",
              "      <th>customer</th>\n",
              "    </tr>\n",
              "  </thead>\n",
              "  <tbody>\n",
              "    <tr>\n",
              "      <th>0</th>\n",
              "      <td>air_00a91d42b08b08d9</td>\n",
              "      <td>35</td>\n",
              "    </tr>\n",
              "    <tr>\n",
              "      <th>1</th>\n",
              "      <td>air_0164b9927d20bcc3</td>\n",
              "      <td>166</td>\n",
              "    </tr>\n",
              "    <tr>\n",
              "      <th>2</th>\n",
              "      <td>air_034a3d5b40d5b1b1</td>\n",
              "      <td>13</td>\n",
              "    </tr>\n",
              "    <tr>\n",
              "      <th>3</th>\n",
              "      <td>air_03963426c9312048</td>\n",
              "      <td>4981</td>\n",
              "    </tr>\n",
              "    <tr>\n",
              "      <th>4</th>\n",
              "      <td>air_04341b588bde96cd</td>\n",
              "      <td>208</td>\n",
              "    </tr>\n",
              "    <tr>\n",
              "      <th>5</th>\n",
              "      <td>air_04cae7c1bc9b2a0b</td>\n",
              "      <td>1078</td>\n",
              "    </tr>\n",
              "    <tr>\n",
              "      <th>6</th>\n",
              "      <td>air_066f0221b8a4d533</td>\n",
              "      <td>299</td>\n",
              "    </tr>\n",
              "    <tr>\n",
              "      <th>7</th>\n",
              "      <td>air_082908692355165e</td>\n",
              "      <td>237</td>\n",
              "    </tr>\n",
              "    <tr>\n",
              "      <th>8</th>\n",
              "      <td>air_084d98859256acf0</td>\n",
              "      <td>8</td>\n",
              "    </tr>\n",
              "    <tr>\n",
              "      <th>9</th>\n",
              "      <td>air_0867f7bebad6a649</td>\n",
              "      <td>558</td>\n",
              "    </tr>\n",
              "  </tbody>\n",
              "</table>\n",
              "</div>"
            ],
            "text/plain": [
              "           air_store_id  customer\n",
              "0  air_00a91d42b08b08d9        35\n",
              "1  air_0164b9927d20bcc3       166\n",
              "2  air_034a3d5b40d5b1b1        13\n",
              "3  air_03963426c9312048      4981\n",
              "4  air_04341b588bde96cd       208\n",
              "5  air_04cae7c1bc9b2a0b      1078\n",
              "6  air_066f0221b8a4d533       299\n",
              "7  air_082908692355165e       237\n",
              "8  air_084d98859256acf0         8\n",
              "9  air_0867f7bebad6a649       558"
            ]
          },
          "metadata": {
            "tags": []
          },
          "execution_count": 94
        }
      ]
    },
    {
      "cell_type": "code",
      "metadata": {
        "id": "NRwcL-IyhThl"
      },
      "source": [
        "index=0\n",
        "for stid in store_id_relation.air_store_id.values:\n",
        "  #print(stid)\n",
        "  # print(newAir.loc[newAir.air_store_id == stid]['customer'].values[0])\n",
        "  if stid in newAir.air_store_id.values:\n",
        "    store_id_relation.at[index,'customer_count_air']= newAir.loc[newAir.air_store_id == stid]['customer'].values[0]\n",
        "  else:\n",
        "    store_id_relation.at[index,'customer_count_air']=0\n",
        "\n",
        "\n",
        "  # a_id = store_id_relation.iloc[id_n].air_store_id\n",
        "  \n",
        "  # break\n",
        "  index += 1\n",
        " \n",
        "  "
      ],
      "execution_count": 95,
      "outputs": []
    },
    {
      "cell_type": "code",
      "metadata": {
        "id": "AnPXTPAKnirM"
      },
      "source": [
        "store_id_relation= store_id_relation.drop(['customer_count_air'],axis =1)"
      ],
      "execution_count": 65,
      "outputs": []
    },
    {
      "cell_type": "code",
      "metadata": {
        "id": "rNqfiiHVjaT8",
        "outputId": "47b30ab1-b470-41c7-e41c-1c4df7cefb4d",
        "colab": {
          "base_uri": "https://localhost:8080/",
          "height": 343
        }
      },
      "source": [
        "store_id_relation.head(10)\n"
      ],
      "execution_count": 98,
      "outputs": [
        {
          "output_type": "execute_result",
          "data": {
            "text/html": [
              "<div>\n",
              "<style scoped>\n",
              "    .dataframe tbody tr th:only-of-type {\n",
              "        vertical-align: middle;\n",
              "    }\n",
              "\n",
              "    .dataframe tbody tr th {\n",
              "        vertical-align: top;\n",
              "    }\n",
              "\n",
              "    .dataframe thead th {\n",
              "        text-align: right;\n",
              "    }\n",
              "</style>\n",
              "<table border=\"1\" class=\"dataframe\">\n",
              "  <thead>\n",
              "    <tr style=\"text-align: right;\">\n",
              "      <th></th>\n",
              "      <th>air_store_id</th>\n",
              "      <th>hpg_store_id</th>\n",
              "      <th>customer_count_air</th>\n",
              "      <th>customer_count_hpg</th>\n",
              "    </tr>\n",
              "  </thead>\n",
              "  <tbody>\n",
              "    <tr>\n",
              "      <th>0</th>\n",
              "      <td>air_63b13c56b7201bd9</td>\n",
              "      <td>hpg_4bc649e72e2a239a</td>\n",
              "      <td>0.0</td>\n",
              "      <td>1964.0</td>\n",
              "    </tr>\n",
              "    <tr>\n",
              "      <th>1</th>\n",
              "      <td>air_a24bf50c3e90d583</td>\n",
              "      <td>hpg_c34b496d0305a809</td>\n",
              "      <td>700.0</td>\n",
              "      <td>1310.0</td>\n",
              "    </tr>\n",
              "    <tr>\n",
              "      <th>2</th>\n",
              "      <td>air_c7f78b4f3cba33ff</td>\n",
              "      <td>hpg_cd8ae0d9bbd58ff9</td>\n",
              "      <td>486.0</td>\n",
              "      <td>199.0</td>\n",
              "    </tr>\n",
              "    <tr>\n",
              "      <th>3</th>\n",
              "      <td>air_947eb2cae4f3e8f2</td>\n",
              "      <td>hpg_de24ea49dc25d6b8</td>\n",
              "      <td>0.0</td>\n",
              "      <td>1206.0</td>\n",
              "    </tr>\n",
              "    <tr>\n",
              "      <th>4</th>\n",
              "      <td>air_965b2e0cf4119003</td>\n",
              "      <td>hpg_653238a84804d8e7</td>\n",
              "      <td>536.0</td>\n",
              "      <td>246.0</td>\n",
              "    </tr>\n",
              "    <tr>\n",
              "      <th>5</th>\n",
              "      <td>air_a38f25e3399d1b25</td>\n",
              "      <td>hpg_50378da9ffb9b6cd</td>\n",
              "      <td>1394.0</td>\n",
              "      <td>809.0</td>\n",
              "    </tr>\n",
              "    <tr>\n",
              "      <th>6</th>\n",
              "      <td>air_3c938075889fc059</td>\n",
              "      <td>hpg_349b1b92f98b175e</td>\n",
              "      <td>1101.0</td>\n",
              "      <td>1382.0</td>\n",
              "    </tr>\n",
              "    <tr>\n",
              "      <th>7</th>\n",
              "      <td>air_68301bcb11e2f389</td>\n",
              "      <td>hpg_2c09f3abb2220659</td>\n",
              "      <td>13.0</td>\n",
              "      <td>197.0</td>\n",
              "    </tr>\n",
              "    <tr>\n",
              "      <th>8</th>\n",
              "      <td>air_5f6fa1b897fe80d5</td>\n",
              "      <td>hpg_40aff6385800ebb1</td>\n",
              "      <td>1456.0</td>\n",
              "      <td>1420.0</td>\n",
              "    </tr>\n",
              "    <tr>\n",
              "      <th>9</th>\n",
              "      <td>air_00a91d42b08b08d9</td>\n",
              "      <td>hpg_fbe603376b5980fc</td>\n",
              "      <td>35.0</td>\n",
              "      <td>337.0</td>\n",
              "    </tr>\n",
              "  </tbody>\n",
              "</table>\n",
              "</div>"
            ],
            "text/plain": [
              "           air_store_id  ... customer_count_hpg\n",
              "0  air_63b13c56b7201bd9  ...             1964.0\n",
              "1  air_a24bf50c3e90d583  ...             1310.0\n",
              "2  air_c7f78b4f3cba33ff  ...              199.0\n",
              "3  air_947eb2cae4f3e8f2  ...             1206.0\n",
              "4  air_965b2e0cf4119003  ...              246.0\n",
              "5  air_a38f25e3399d1b25  ...              809.0\n",
              "6  air_3c938075889fc059  ...             1382.0\n",
              "7  air_68301bcb11e2f389  ...              197.0\n",
              "8  air_5f6fa1b897fe80d5  ...             1420.0\n",
              "9  air_00a91d42b08b08d9  ...              337.0\n",
              "\n",
              "[10 rows x 4 columns]"
            ]
          },
          "metadata": {
            "tags": []
          },
          "execution_count": 98
        }
      ]
    },
    {
      "cell_type": "code",
      "metadata": {
        "id": "Lucf0xv_pU2C"
      },
      "source": [
        "index=0\n",
        "for stid in store_id_relation.hpg_store_id.values:\n",
        "  #print(stid)\n",
        "  # print(newAir.loc[newAir.air_store_id == stid]['customer'].values[0])\n",
        "  if stid in newHpg.hpg_store_id.values:\n",
        "    store_id_relation.at[index,'customer_count_hpg']= newHpg.loc[newHpg.hpg_store_id == stid]['customer'].values[0]\n",
        "  else:\n",
        "    store_id_relation.at[index,'customer_count_hpg']=0\n",
        "\n",
        "\n",
        "  # a_id = store_id_relation.iloc[id_n].air_store_id\n",
        "  \n",
        "  # break\n",
        "  index += 1"
      ],
      "execution_count": 97,
      "outputs": []
    },
    {
      "cell_type": "code",
      "metadata": {
        "id": "bpUryuWt1JS5"
      },
      "source": [
        "store_id_relation.to_csv(\"/content/drive/My Drive/Colab Notebooks/Data/q1.csv\")\n"
      ],
      "execution_count": 99,
      "outputs": []
    },
    {
      "cell_type": "code",
      "metadata": {
        "id": "XgHsK9G02z7S"
      },
      "source": [
        "air_sum = store_id_relation.customer_count_air.sum()"
      ],
      "execution_count": 101,
      "outputs": []
    },
    {
      "cell_type": "code",
      "metadata": {
        "id": "9-6KKfA63Md9",
        "outputId": "de339f47-1982-45e7-f55c-71328d496ea0",
        "colab": {
          "base_uri": "https://localhost:8080/"
        }
      },
      "source": [
        "hpg_sum = store_id_relation.customer_count_hpg.sum()"
      ],
      "execution_count": 103,
      "outputs": [
        {
          "output_type": "execute_result",
          "data": {
            "text/plain": [
              "87381.0"
            ]
          },
          "metadata": {
            "tags": []
          },
          "execution_count": 103
        }
      ]
    },
    {
      "cell_type": "code",
      "metadata": {
        "id": "Gsbxl4WK4ghU"
      },
      "source": [
        "new_df = pd.DataFrame()\n",
        "new_df.at[0,\"type\"] = \"air_sum\"\n",
        "new_df.at[0,\"value\"] = air_sum\n",
        "new_df.at[1,\"type\"] = \"hpg_sum\"\n",
        "new_df.at[1,\"value\"] = hpg_sum\n",
        "\n"
      ],
      "execution_count": 109,
      "outputs": []
    },
    {
      "cell_type": "code",
      "metadata": {
        "id": "4MT-ZYyi5xLv",
        "outputId": "9aba656f-cba3-41bf-9259-7bf88c8c879f",
        "colab": {
          "base_uri": "https://localhost:8080/"
        }
      },
      "source": [
        "new_df.head"
      ],
      "execution_count": 110,
      "outputs": [
        {
          "output_type": "execute_result",
          "data": {
            "text/plain": [
              "<bound method NDFrame.head of       type    value\n",
              "0  air_sum  79342.0\n",
              "1  hpg_sum  87381.0>"
            ]
          },
          "metadata": {
            "tags": []
          },
          "execution_count": 110
        }
      ]
    },
    {
      "cell_type": "code",
      "metadata": {
        "id": "ZFPjD7db53bP",
        "outputId": "59c2df03-0b53-4260-8aa0-1df4895b3f2f",
        "colab": {
          "base_uri": "https://localhost:8080/",
          "height": 297
        }
      },
      "source": [
        "new_df.plot.bar(x=\"type\", y=\"value\", rot=0)"
      ],
      "execution_count": 111,
      "outputs": [
        {
          "output_type": "execute_result",
          "data": {
            "text/plain": [
              "<matplotlib.axes._subplots.AxesSubplot at 0x7fd73a409ef0>"
            ]
          },
          "metadata": {
            "tags": []
          },
          "execution_count": 111
        },
        {
          "output_type": "display_data",
          "data": {
            "image/png": "[encoded data removed]",
            "text/plain": [
              "<Figure size 432x288 with 1 Axes>"
            ]
          },
          "metadata": {
            "tags": [],
            "needs_background": "light"
          }
        }
      ]
    },
    {
      "cell_type": "code",
      "metadata": {
        "id": "IO6-ZauMD3MV"
      },
      "source": [
        ""
      ],
      "execution_count": null,
      "outputs": []
    },
    {
      "cell_type": "markdown",
      "metadata": {
        "id": "bwG1HAVg6SQn"
      },
      "source": [
        "### Question 2"
      ]
    },
    {
      "cell_type": "code",
      "metadata": {
        "id": "NTSRZ9Oo6V3S",
        "outputId": "9c2f307d-5624-418d-9f02-03675d8dbc15",
        "colab": {
          "base_uri": "https://localhost:8080/",
          "height": 195
        }
      },
      "source": [
        "air_store_info.head(5)"
      ],
      "execution_count": 123,
      "outputs": [
        {
          "output_type": "execute_result",
          "data": {
            "text/html": [
              "<div>\n",
              "<style scoped>\n",
              "    .dataframe tbody tr th:only-of-type {\n",
              "        vertical-align: middle;\n",
              "    }\n",
              "\n",
              "    .dataframe tbody tr th {\n",
              "        vertical-align: top;\n",
              "    }\n",
              "\n",
              "    .dataframe thead th {\n",
              "        text-align: right;\n",
              "    }\n",
              "</style>\n",
              "<table border=\"1\" class=\"dataframe\">\n",
              "  <thead>\n",
              "    <tr style=\"text-align: right;\">\n",
              "      <th></th>\n",
              "      <th>air_store_id</th>\n",
              "      <th>air_genre_name</th>\n",
              "      <th>air_area_name</th>\n",
              "      <th>latitude</th>\n",
              "      <th>longitude</th>\n",
              "      <th>type</th>\n",
              "    </tr>\n",
              "  </thead>\n",
              "  <tbody>\n",
              "    <tr>\n",
              "      <th>0</th>\n",
              "      <td>air_0f0cdeee6c9bf3d7</td>\n",
              "      <td>Italian/French</td>\n",
              "      <td>Hyōgo-ken Kōbe-shi Kumoidōri</td>\n",
              "      <td>34.695124</td>\n",
              "      <td>135.197852</td>\n",
              "      <td>Italian/French</td>\n",
              "    </tr>\n",
              "    <tr>\n",
              "      <th>1</th>\n",
              "      <td>air_7cc17a324ae5c7dc</td>\n",
              "      <td>Italian/French</td>\n",
              "      <td>Hyōgo-ken Kōbe-shi Kumoidōri</td>\n",
              "      <td>34.695124</td>\n",
              "      <td>135.197852</td>\n",
              "      <td>Italian/French</td>\n",
              "    </tr>\n",
              "    <tr>\n",
              "      <th>2</th>\n",
              "      <td>air_fee8dcf4d619598e</td>\n",
              "      <td>Italian/French</td>\n",
              "      <td>Hyōgo-ken Kōbe-shi Kumoidōri</td>\n",
              "      <td>34.695124</td>\n",
              "      <td>135.197852</td>\n",
              "      <td>Italian/French</td>\n",
              "    </tr>\n",
              "    <tr>\n",
              "      <th>3</th>\n",
              "      <td>air_a17f0778617c76e2</td>\n",
              "      <td>Italian/French</td>\n",
              "      <td>Hyōgo-ken Kōbe-shi Kumoidōri</td>\n",
              "      <td>34.695124</td>\n",
              "      <td>135.197852</td>\n",
              "      <td>Italian/French</td>\n",
              "    </tr>\n",
              "    <tr>\n",
              "      <th>4</th>\n",
              "      <td>air_83db5aff8f50478e</td>\n",
              "      <td>Italian/French</td>\n",
              "      <td>Tōkyō-to Minato-ku Shibakōen</td>\n",
              "      <td>35.658068</td>\n",
              "      <td>139.751599</td>\n",
              "      <td>Italian/French</td>\n",
              "    </tr>\n",
              "  </tbody>\n",
              "</table>\n",
              "</div>"
            ],
            "text/plain": [
              "           air_store_id  air_genre_name  ...   longitude            type\n",
              "0  air_0f0cdeee6c9bf3d7  Italian/French  ...  135.197852  Italian/French\n",
              "1  air_7cc17a324ae5c7dc  Italian/French  ...  135.197852  Italian/French\n",
              "2  air_fee8dcf4d619598e  Italian/French  ...  135.197852  Italian/French\n",
              "3  air_a17f0778617c76e2  Italian/French  ...  135.197852  Italian/French\n",
              "4  air_83db5aff8f50478e  Italian/French  ...  139.751599  Italian/French\n",
              "\n",
              "[5 rows x 6 columns]"
            ]
          },
          "metadata": {
            "tags": []
          },
          "execution_count": 123
        }
      ]
    },
    {
      "cell_type": "code",
      "metadata": {
        "id": "nbSwbuw_7o7l",
        "outputId": "b07c588b-cb55-4a51-f386-5813ae7bf270",
        "colab": {
          "base_uri": "https://localhost:8080/"
        }
      },
      "source": [
        "air_store_info.type.value_counts()"
      ],
      "execution_count": 127,
      "outputs": [
        {
          "output_type": "execute_result",
          "data": {
            "text/plain": [
              "Asian                    299\n",
              "International cuisine    196\n",
              "Bar/Cocktail             189\n",
              "Western food             118\n",
              "Other                     27\n",
              "Name: type, dtype: int64"
            ]
          },
          "metadata": {
            "tags": []
          },
          "execution_count": 127
        }
      ]
    },
    {
      "cell_type": "code",
      "metadata": {
        "id": "2wwu0Cdq8GWO"
      },
      "source": [
        "air_store_info[\"type\"] = air_store_info['air_genre_name']"
      ],
      "execution_count": 219,
      "outputs": []
    },
    {
      "cell_type": "code",
      "metadata": {
        "id": "IkoWiJP-9QgI"
      },
      "source": [
        "air_store_info= air_store_info.drop(['Type'],axis =1)"
      ],
      "execution_count": 122,
      "outputs": []
    },
    {
      "cell_type": "code",
      "metadata": {
        "id": "PnTvrHOM8jAF"
      },
      "source": [
        "air_store_info['type']= air_store_info['type'].replace({'Italian/French':'Western food', 'Izakaya':'Asian', 'Japanese food': 'Asian', \n",
        "                                \"Yakiniku/Korean food\":'Asian',\"Okonomiyaki/Monja/Teppanyaki\":\"Asian\",\n",
        "                                \"Dining bar\":\"Bar/Cocktail\", \"Karaoke/Party\":\"Bar/Cocktail\", \"Cafe/Sweets\":\"International cuisine\",\n",
        "                                \"Creative cuisine\":\"International cuisine\"})\n"
      ],
      "execution_count": 220,
      "outputs": []
    },
    {
      "cell_type": "code",
      "metadata": {
        "id": "zqEXF-od_5Le",
        "outputId": "f09d5267-da4d-4f08-f4fa-ebcca75046bb",
        "colab": {
          "base_uri": "https://localhost:8080/",
          "height": 497
        }
      },
      "source": [
        "plt.figure(figsize=(20,8))\n",
        "# plt.scatter(x=air_store_info['longitude'], y=air_store_info['latitude'])\n",
        "sns.scatterplot(data=air_store_info, x= 'longitude', y= 'latitude', hue= 'type')\n",
        "plt.show()"
      ],
      "execution_count": 140,
      "outputs": [
        {
          "output_type": "display_data",
          "data": {
            "image/png": "[encoded data removed]",
            "text/plain": [
              "<Figure size 1440x576 with 1 Axes>"
            ]
          },
          "metadata": {
            "tags": [],
            "needs_background": "light"
          }
        }
      ]
    },
    {
      "cell_type": "code",
      "metadata": {
        "id": "R3tBdCfuCPh3"
      },
      "source": [
        ""
      ],
      "execution_count": null,
      "outputs": []
    },
    {
      "cell_type": "markdown",
      "metadata": {
        "id": "0Pnmn2IzCHbP"
      },
      "source": [
        "###Question 3"
      ]
    },
    {
      "cell_type": "markdown",
      "metadata": {
        "id": "wVaquOfx6YT3"
      },
      "source": [
        ""
      ]
    },
    {
      "cell_type": "code",
      "metadata": {
        "id": "kytA_7X0CXff",
        "outputId": "a40f175c-ed6f-4f8f-d10c-ce3303ad836f",
        "colab": {
          "base_uri": "https://localhost:8080/",
          "height": 343
        }
      },
      "source": [
        "air_visit_data.head(10)\n"
      ],
      "execution_count": 165,
      "outputs": [
        {
          "output_type": "execute_result",
          "data": {
            "text/html": [
              "<div>\n",
              "<style scoped>\n",
              "    .dataframe tbody tr th:only-of-type {\n",
              "        vertical-align: middle;\n",
              "    }\n",
              "\n",
              "    .dataframe tbody tr th {\n",
              "        vertical-align: top;\n",
              "    }\n",
              "\n",
              "    .dataframe thead th {\n",
              "        text-align: right;\n",
              "    }\n",
              "</style>\n",
              "<table border=\"1\" class=\"dataframe\">\n",
              "  <thead>\n",
              "    <tr style=\"text-align: right;\">\n",
              "      <th></th>\n",
              "      <th>air_store_id</th>\n",
              "      <th>visit_date</th>\n",
              "      <th>visitors</th>\n",
              "      <th>month</th>\n",
              "      <th>Year</th>\n",
              "      <th>Month_Year</th>\n",
              "    </tr>\n",
              "  </thead>\n",
              "  <tbody>\n",
              "    <tr>\n",
              "      <th>0</th>\n",
              "      <td>air_ba937bf13d40fb24</td>\n",
              "      <td>2016-01-13</td>\n",
              "      <td>25</td>\n",
              "      <td>January</td>\n",
              "      <td>2016</td>\n",
              "      <td>January 2016</td>\n",
              "    </tr>\n",
              "    <tr>\n",
              "      <th>1</th>\n",
              "      <td>air_ba937bf13d40fb24</td>\n",
              "      <td>2016-01-14</td>\n",
              "      <td>32</td>\n",
              "      <td>January</td>\n",
              "      <td>2016</td>\n",
              "      <td>January 2016</td>\n",
              "    </tr>\n",
              "    <tr>\n",
              "      <th>2</th>\n",
              "      <td>air_ba937bf13d40fb24</td>\n",
              "      <td>2016-01-15</td>\n",
              "      <td>29</td>\n",
              "      <td>January</td>\n",
              "      <td>2016</td>\n",
              "      <td>January 2016</td>\n",
              "    </tr>\n",
              "    <tr>\n",
              "      <th>3</th>\n",
              "      <td>air_ba937bf13d40fb24</td>\n",
              "      <td>2016-01-16</td>\n",
              "      <td>22</td>\n",
              "      <td>January</td>\n",
              "      <td>2016</td>\n",
              "      <td>January 2016</td>\n",
              "    </tr>\n",
              "    <tr>\n",
              "      <th>4</th>\n",
              "      <td>air_ba937bf13d40fb24</td>\n",
              "      <td>2016-01-18</td>\n",
              "      <td>6</td>\n",
              "      <td>January</td>\n",
              "      <td>2016</td>\n",
              "      <td>January 2016</td>\n",
              "    </tr>\n",
              "    <tr>\n",
              "      <th>5</th>\n",
              "      <td>air_ba937bf13d40fb24</td>\n",
              "      <td>2016-01-19</td>\n",
              "      <td>9</td>\n",
              "      <td>January</td>\n",
              "      <td>2016</td>\n",
              "      <td>January 2016</td>\n",
              "    </tr>\n",
              "    <tr>\n",
              "      <th>6</th>\n",
              "      <td>air_ba937bf13d40fb24</td>\n",
              "      <td>2016-01-20</td>\n",
              "      <td>31</td>\n",
              "      <td>January</td>\n",
              "      <td>2016</td>\n",
              "      <td>January 2016</td>\n",
              "    </tr>\n",
              "    <tr>\n",
              "      <th>7</th>\n",
              "      <td>air_ba937bf13d40fb24</td>\n",
              "      <td>2016-01-21</td>\n",
              "      <td>21</td>\n",
              "      <td>January</td>\n",
              "      <td>2016</td>\n",
              "      <td>January 2016</td>\n",
              "    </tr>\n",
              "    <tr>\n",
              "      <th>8</th>\n",
              "      <td>air_ba937bf13d40fb24</td>\n",
              "      <td>2016-01-22</td>\n",
              "      <td>18</td>\n",
              "      <td>January</td>\n",
              "      <td>2016</td>\n",
              "      <td>January 2016</td>\n",
              "    </tr>\n",
              "    <tr>\n",
              "      <th>9</th>\n",
              "      <td>air_ba937bf13d40fb24</td>\n",
              "      <td>2016-01-23</td>\n",
              "      <td>26</td>\n",
              "      <td>January</td>\n",
              "      <td>2016</td>\n",
              "      <td>January 2016</td>\n",
              "    </tr>\n",
              "  </tbody>\n",
              "</table>\n",
              "</div>"
            ],
            "text/plain": [
              "           air_store_id  visit_date  visitors    month  Year    Month_Year\n",
              "0  air_ba937bf13d40fb24  2016-01-13        25  January  2016  January 2016\n",
              "1  air_ba937bf13d40fb24  2016-01-14        32  January  2016  January 2016\n",
              "2  air_ba937bf13d40fb24  2016-01-15        29  January  2016  January 2016\n",
              "3  air_ba937bf13d40fb24  2016-01-16        22  January  2016  January 2016\n",
              "4  air_ba937bf13d40fb24  2016-01-18         6  January  2016  January 2016\n",
              "5  air_ba937bf13d40fb24  2016-01-19         9  January  2016  January 2016\n",
              "6  air_ba937bf13d40fb24  2016-01-20        31  January  2016  January 2016\n",
              "7  air_ba937bf13d40fb24  2016-01-21        21  January  2016  January 2016\n",
              "8  air_ba937bf13d40fb24  2016-01-22        18  January  2016  January 2016\n",
              "9  air_ba937bf13d40fb24  2016-01-23        26  January  2016  January 2016"
            ]
          },
          "metadata": {
            "tags": []
          },
          "execution_count": 165
        }
      ]
    },
    {
      "cell_type": "code",
      "metadata": {
        "id": "hSOBLdafDIhj",
        "outputId": "e6cdc5b6-069b-4dea-f740-c23123400591",
        "colab": {
          "base_uri": "https://localhost:8080/"
        }
      },
      "source": [
        "air_visit_data.shape"
      ],
      "execution_count": 148,
      "outputs": [
        {
          "output_type": "execute_result",
          "data": {
            "text/plain": [
              "(252108, 3)"
            ]
          },
          "metadata": {
            "tags": []
          },
          "execution_count": 148
        }
      ]
    },
    {
      "cell_type": "code",
      "metadata": {
        "id": "gHePM-LJC8uJ",
        "outputId": "8ab13277-f93d-4d02-82a2-04d0944c6648",
        "colab": {
          "base_uri": "https://localhost:8080/"
        }
      },
      "source": [
        "air_visit_data.air_store_id.nunique()"
      ],
      "execution_count": 146,
      "outputs": [
        {
          "output_type": "execute_result",
          "data": {
            "text/plain": [
              "829"
            ]
          },
          "metadata": {
            "tags": []
          },
          "execution_count": 146
        }
      ]
    },
    {
      "cell_type": "code",
      "metadata": {
        "id": "BtA-KybSD7m0"
      },
      "source": [
        "air_visit_data['month'] = pd.to_datetime(air_visit_data['visit_date']).dt.month"
      ],
      "execution_count": 150,
      "outputs": []
    },
    {
      "cell_type": "code",
      "metadata": {
        "id": "InRfb07QFt3T",
        "outputId": "817f3202-5bba-4442-ab61-6bc0da58b221",
        "colab": {
          "base_uri": "https://localhost:8080/"
        }
      },
      "source": [
        "air_visit_data.info()"
      ],
      "execution_count": 161,
      "outputs": [
        {
          "output_type": "stream",
          "text": [
            "<class 'pandas.core.frame.DataFrame'>\n",
            "RangeIndex: 252108 entries, 0 to 252107\n",
            "Data columns (total 5 columns):\n",
            " #   Column        Non-Null Count   Dtype \n",
            "---  ------        --------------   ----- \n",
            " 0   air_store_id  252108 non-null  object\n",
            " 1   visit_date    252108 non-null  object\n",
            " 2   visitors      252108 non-null  int64 \n",
            " 3   month         252108 non-null  object\n",
            " 4   Year          252108 non-null  int64 \n",
            "dtypes: int64(2), object(3)\n",
            "memory usage: 9.6+ MB\n"
          ],
          "name": "stdout"
        }
      ]
    },
    {
      "cell_type": "code",
      "metadata": {
        "id": "TcFPkfDoGXQz"
      },
      "source": [
        "air_visit_data['Year'] = pd.to_datetime(air_visit_data['visit_date']).dt.year"
      ],
      "execution_count": 156,
      "outputs": []
    },
    {
      "cell_type": "code",
      "metadata": {
        "id": "Pgujpi_XFIeS"
      },
      "source": [
        "air_visit_data['month']= air_visit_data['month'].replace({1:'January', 2:\"February\", 3:\"March\", 4:\"April\",\n",
        "                                                          5:\"May\",6:\"June\", 7:\"July\", 8:\"August\", 9:\"September\",\n",
        "                                                          10: \"October\", 11:\"November\", 12:\"December\"})"
      ],
      "execution_count": 154,
      "outputs": []
    },
    {
      "cell_type": "code",
      "metadata": {
        "id": "pedxZb0qGknx"
      },
      "source": [
        "air_visit_data[\"Month_Year\"] = air_visit_data.month + \" \" + air_visit_data.Year.astype(str)"
      ],
      "execution_count": 164,
      "outputs": []
    },
    {
      "cell_type": "code",
      "metadata": {
        "id": "IOu3Az0IHXoP"
      },
      "source": [
        "newAir_visit_data = air_visit_data.groupby(['Month_Year'])['visitors'].agg('mean').to_frame('mean_visitors').reset_index()"
      ],
      "execution_count": 178,
      "outputs": []
    },
    {
      "cell_type": "code",
      "metadata": {
        "id": "Mu7yD4msIH_A",
        "outputId": "be89c819-df6a-4ba6-eeb6-565017a923e0",
        "colab": {
          "base_uri": "https://localhost:8080/",
          "height": 343
        }
      },
      "source": [
        "newAir_visit_data.head(10)"
      ],
      "execution_count": 177,
      "outputs": [
        {
          "output_type": "execute_result",
          "data": {
            "text/html": [
              "<div>\n",
              "<style scoped>\n",
              "    .dataframe tbody tr th:only-of-type {\n",
              "        vertical-align: middle;\n",
              "    }\n",
              "\n",
              "    .dataframe tbody tr th {\n",
              "        vertical-align: top;\n",
              "    }\n",
              "\n",
              "    .dataframe thead th {\n",
              "        text-align: right;\n",
              "    }\n",
              "</style>\n",
              "<table border=\"1\" class=\"dataframe\">\n",
              "  <thead>\n",
              "    <tr style=\"text-align: right;\">\n",
              "      <th></th>\n",
              "      <th>Month_Year</th>\n",
              "      <th>mean_visitors</th>\n",
              "    </tr>\n",
              "  </thead>\n",
              "  <tbody>\n",
              "    <tr>\n",
              "      <th>0</th>\n",
              "      <td>January 2016</td>\n",
              "      <td>22.533317</td>\n",
              "    </tr>\n",
              "    <tr>\n",
              "      <th>1</th>\n",
              "      <td>April 2017</td>\n",
              "      <td>21.448066</td>\n",
              "    </tr>\n",
              "    <tr>\n",
              "      <th>2</th>\n",
              "      <td>August 2016</td>\n",
              "      <td>19.748489</td>\n",
              "    </tr>\n",
              "    <tr>\n",
              "      <th>3</th>\n",
              "      <td>December 2016</td>\n",
              "      <td>23.128840</td>\n",
              "    </tr>\n",
              "    <tr>\n",
              "      <th>4</th>\n",
              "      <td>February 2016</td>\n",
              "      <td>21.032877</td>\n",
              "    </tr>\n",
              "    <tr>\n",
              "      <th>5</th>\n",
              "      <td>February 2017</td>\n",
              "      <td>20.264600</td>\n",
              "    </tr>\n",
              "    <tr>\n",
              "      <th>6</th>\n",
              "      <td>January 2016</td>\n",
              "      <td>20.891257</td>\n",
              "    </tr>\n",
              "    <tr>\n",
              "      <th>7</th>\n",
              "      <td>January 2017</td>\n",
              "      <td>19.636954</td>\n",
              "    </tr>\n",
              "    <tr>\n",
              "      <th>8</th>\n",
              "      <td>July 2016</td>\n",
              "      <td>21.267653</td>\n",
              "    </tr>\n",
              "    <tr>\n",
              "      <th>9</th>\n",
              "      <td>June 2016</td>\n",
              "      <td>21.319510</td>\n",
              "    </tr>\n",
              "  </tbody>\n",
              "</table>\n",
              "</div>"
            ],
            "text/plain": [
              "      Month_Year  mean_visitors\n",
              "0   January 2016      22.533317\n",
              "1     April 2017      21.448066\n",
              "2    August 2016      19.748489\n",
              "3  December 2016      23.128840\n",
              "4  February 2016      21.032877\n",
              "5  February 2017      20.264600\n",
              "6   January 2016      20.891257\n",
              "7   January 2017      19.636954\n",
              "8      July 2016      21.267653\n",
              "9      June 2016      21.319510"
            ]
          },
          "metadata": {
            "tags": []
          },
          "execution_count": 177
        }
      ]
    },
    {
      "cell_type": "markdown",
      "metadata": {
        "id": "yXocneGAEtBk"
      },
      "source": [
        ""
      ]
    },
    {
      "cell_type": "code",
      "metadata": {
        "id": "f87RQ4txIWwq",
        "outputId": "91a85083-37c6-414b-8200-ea1f5ce7410c",
        "colab": {
          "base_uri": "https://localhost:8080/"
        }
      },
      "source": [
        "newAir_visit_data.shape\n"
      ],
      "execution_count": 170,
      "outputs": [
        {
          "output_type": "execute_result",
          "data": {
            "text/plain": [
              "(16, 2)"
            ]
          },
          "metadata": {
            "tags": []
          },
          "execution_count": 170
        }
      ]
    },
    {
      "cell_type": "code",
      "metadata": {
        "id": "ZFN4titsJmDV"
      },
      "source": [
        "newAVD = pd.DataFrame()\n",
        "newAVD.at[0,'Month_Year']= \"January 2016\"\n",
        "newAVD.at[0,'mean_visitors']= newAir_visit_data.loc[newAir_visit_data.Month_Year==\"January 2016\"][\"mean_visitors\"].values[0]\n",
        "\n",
        "newAVD.at[1,'Month_Year']= \"February 2016\"\n",
        "newAVD.at[1,'mean_visitors']= newAir_visit_data.loc[newAir_visit_data.Month_Year==\"February 2016\"][\"mean_visitors\"].values[0]\n",
        "\n",
        "newAVD.at[2,'Month_Year']= \"March 2016\"\n",
        "newAVD.at[2,'mean_visitors']= newAir_visit_data.loc[newAir_visit_data.Month_Year==\"March 2016\"][\"mean_visitors\"].values[0]\n",
        "\n",
        "newAVD.at[3,'Month_Year']= \"April 2016\"\n",
        "newAVD.at[3,'mean_visitors']= newAir_visit_data.loc[newAir_visit_data.Month_Year==\"April 2016\"][\"mean_visitors\"].values[0]\n",
        "\n",
        "newAVD.at[4,'Month_Year']= \"May 2016\"\n",
        "newAVD.at[4,'mean_visitors']= newAir_visit_data.loc[newAir_visit_data.Month_Year==\"May 2016\"][\"mean_visitors\"].values[0]\n",
        "\n",
        "newAVD.at[5,'Month_Year']= \"June 2016\"\n",
        "newAVD.at[5,'mean_visitors']= newAir_visit_data.loc[newAir_visit_data.Month_Year==\"June 2016\"][\"mean_visitors\"].values[0]\n",
        "\n",
        "newAVD.at[6,'Month_Year']= \"July 2016\"\n",
        "newAVD.at[6,'mean_visitors']= newAir_visit_data.loc[newAir_visit_data.Month_Year==\"July 2016\"][\"mean_visitors\"].values[0]\n",
        "\n",
        "newAVD.at[7,'Month_Year']= \"August 2016\"\n",
        "newAVD.at[7,'mean_visitors']= newAir_visit_data.loc[newAir_visit_data.Month_Year==\"August 2016\"][\"mean_visitors\"].values[0]\n",
        "\n",
        "newAVD.at[8,'Month_Year']= \"September 2016\"\n",
        "newAVD.at[8,'mean_visitors']= newAir_visit_data.loc[newAir_visit_data.Month_Year==\"September 2016\"][\"mean_visitors\"].values[0]\n",
        "\n",
        "newAVD.at[9,'Month_Year']= \"October 2016\"\n",
        "newAVD.at[9,'mean_visitors']= newAir_visit_data.loc[newAir_visit_data.Month_Year==\"October 2016\"][\"mean_visitors\"].values[0]\n",
        "\n",
        "newAVD.at[10,'Month_Year']= \"November 2016\"\n",
        "newAVD.at[10,'mean_visitors']= newAir_visit_data.loc[newAir_visit_data.Month_Year==\"November 2016\"][\"mean_visitors\"].values[0]\n",
        "\n",
        "newAVD.at[11,'Month_Year']= \"December 2016\"\n",
        "newAVD.at[11,'mean_visitors']= newAir_visit_data.loc[newAir_visit_data.Month_Year==\"December 2016\"][\"mean_visitors\"].values[0]\n",
        "\n",
        "newAVD.at[12,'Month_Year']= \"January 2017\"\n",
        "newAVD.at[12,'mean_visitors']= newAir_visit_data.loc[newAir_visit_data.Month_Year==\"January 2017\"][\"mean_visitors\"].values[0]\n",
        "\n",
        "newAVD.at[13,'Month_Year']= \"February 2017\"\n",
        "newAVD.at[13,'mean_visitors']= newAir_visit_data.loc[newAir_visit_data.Month_Year==\"February 2017\"][\"mean_visitors\"].values[0]\n",
        "\n",
        "newAVD.at[14,'Month_Year']= \"March 2017\"\n",
        "newAVD.at[14,'mean_visitors']= newAir_visit_data.loc[newAir_visit_data.Month_Year==\"March 2017\"][\"mean_visitors\"].values[0]\n",
        "\n",
        "newAVD.at[15,'Month_Year']= \"April 2017\"\n",
        "newAVD.at[15,'mean_visitors']= newAir_visit_data.loc[newAir_visit_data.Month_Year==\"April 2017\"][\"mean_visitors\"].values[0]\n",
        "\n",
        "\n",
        "\n"
      ],
      "execution_count": 182,
      "outputs": []
    },
    {
      "cell_type": "code",
      "metadata": {
        "id": "vlqdF-gWMcRd",
        "outputId": "bb85c35f-28c2-4c10-b52a-9973922b7fd0",
        "colab": {
          "base_uri": "https://localhost:8080/",
          "height": 606
        }
      },
      "source": [
        "\n",
        "\n",
        "newAVD.plot.bar(x='Month_Year', y=\"mean_visitors\",rot=0,figsize=(22,10))\n",
        "plt.show()"
      ],
      "execution_count": 191,
      "outputs": [
        {
          "output_type": "display_data",
          "data": {
            "image/png": "[encoded data removed]",
            "text/plain": [
              "<Figure size 1584x720 with 1 Axes>"
            ]
          },
          "metadata": {
            "tags": [],
            "needs_background": "light"
          }
        }
      ]
    },
    {
      "cell_type": "markdown",
      "metadata": {
        "id": "C0OcA57NNuW4"
      },
      "source": [
        "###Question4"
      ]
    },
    {
      "cell_type": "code",
      "metadata": {
        "id": "J3xGZky6Nyh-",
        "outputId": "246c95e4-f142-4ce6-9a99-0c5793ecab4f",
        "colab": {
          "base_uri": "https://localhost:8080/",
          "height": 343
        }
      },
      "source": [
        "hpg_reserve.head(10)\n"
      ],
      "execution_count": 199,
      "outputs": [
        {
          "output_type": "execute_result",
          "data": {
            "text/html": [
              "<div>\n",
              "<style scoped>\n",
              "    .dataframe tbody tr th:only-of-type {\n",
              "        vertical-align: middle;\n",
              "    }\n",
              "\n",
              "    .dataframe tbody tr th {\n",
              "        vertical-align: top;\n",
              "    }\n",
              "\n",
              "    .dataframe thead th {\n",
              "        text-align: right;\n",
              "    }\n",
              "</style>\n",
              "<table border=\"1\" class=\"dataframe\">\n",
              "  <thead>\n",
              "    <tr style=\"text-align: right;\">\n",
              "      <th></th>\n",
              "      <th>hpg_store_id</th>\n",
              "      <th>visit_datetime</th>\n",
              "      <th>reserve_datetime</th>\n",
              "      <th>reserve_visitors</th>\n",
              "      <th>day</th>\n",
              "    </tr>\n",
              "  </thead>\n",
              "  <tbody>\n",
              "    <tr>\n",
              "      <th>0</th>\n",
              "      <td>hpg_c63f6f42e088e50f</td>\n",
              "      <td>2016-01-01 11:00:00</td>\n",
              "      <td>2016-01-01 09:00:00</td>\n",
              "      <td>1</td>\n",
              "      <td>Friday</td>\n",
              "    </tr>\n",
              "    <tr>\n",
              "      <th>1</th>\n",
              "      <td>hpg_dac72789163a3f47</td>\n",
              "      <td>2016-01-01 13:00:00</td>\n",
              "      <td>2016-01-01 06:00:00</td>\n",
              "      <td>3</td>\n",
              "      <td>Friday</td>\n",
              "    </tr>\n",
              "    <tr>\n",
              "      <th>2</th>\n",
              "      <td>hpg_c8e24dcf51ca1eb5</td>\n",
              "      <td>2016-01-01 16:00:00</td>\n",
              "      <td>2016-01-01 14:00:00</td>\n",
              "      <td>2</td>\n",
              "      <td>Friday</td>\n",
              "    </tr>\n",
              "    <tr>\n",
              "      <th>3</th>\n",
              "      <td>hpg_24bb207e5fd49d4a</td>\n",
              "      <td>2016-01-01 17:00:00</td>\n",
              "      <td>2016-01-01 11:00:00</td>\n",
              "      <td>5</td>\n",
              "      <td>Friday</td>\n",
              "    </tr>\n",
              "    <tr>\n",
              "      <th>4</th>\n",
              "      <td>hpg_25291c542ebb3bc2</td>\n",
              "      <td>2016-01-01 17:00:00</td>\n",
              "      <td>2016-01-01 03:00:00</td>\n",
              "      <td>13</td>\n",
              "      <td>Friday</td>\n",
              "    </tr>\n",
              "    <tr>\n",
              "      <th>5</th>\n",
              "      <td>hpg_28bdf7a336ec6a7b</td>\n",
              "      <td>2016-01-01 17:00:00</td>\n",
              "      <td>2016-01-01 15:00:00</td>\n",
              "      <td>2</td>\n",
              "      <td>Friday</td>\n",
              "    </tr>\n",
              "    <tr>\n",
              "      <th>6</th>\n",
              "      <td>hpg_2a01a042bca04ad9</td>\n",
              "      <td>2016-01-01 17:00:00</td>\n",
              "      <td>2016-01-01 17:00:00</td>\n",
              "      <td>2</td>\n",
              "      <td>Friday</td>\n",
              "    </tr>\n",
              "    <tr>\n",
              "      <th>7</th>\n",
              "      <td>hpg_2a84dd9f4c140b82</td>\n",
              "      <td>2016-01-01 17:00:00</td>\n",
              "      <td>2016-01-01 15:00:00</td>\n",
              "      <td>2</td>\n",
              "      <td>Friday</td>\n",
              "    </tr>\n",
              "    <tr>\n",
              "      <th>8</th>\n",
              "      <td>hpg_2ad179871696901f</td>\n",
              "      <td>2016-01-01 17:00:00</td>\n",
              "      <td>2016-01-01 13:00:00</td>\n",
              "      <td>2</td>\n",
              "      <td>Friday</td>\n",
              "    </tr>\n",
              "    <tr>\n",
              "      <th>9</th>\n",
              "      <td>hpg_2c1d989eedb0ff83</td>\n",
              "      <td>2016-01-01 17:00:00</td>\n",
              "      <td>2016-01-01 15:00:00</td>\n",
              "      <td>6</td>\n",
              "      <td>Friday</td>\n",
              "    </tr>\n",
              "  </tbody>\n",
              "</table>\n",
              "</div>"
            ],
            "text/plain": [
              "           hpg_store_id       visit_datetime  ... reserve_visitors     day\n",
              "0  hpg_c63f6f42e088e50f  2016-01-01 11:00:00  ...                1  Friday\n",
              "1  hpg_dac72789163a3f47  2016-01-01 13:00:00  ...                3  Friday\n",
              "2  hpg_c8e24dcf51ca1eb5  2016-01-01 16:00:00  ...                2  Friday\n",
              "3  hpg_24bb207e5fd49d4a  2016-01-01 17:00:00  ...                5  Friday\n",
              "4  hpg_25291c542ebb3bc2  2016-01-01 17:00:00  ...               13  Friday\n",
              "5  hpg_28bdf7a336ec6a7b  2016-01-01 17:00:00  ...                2  Friday\n",
              "6  hpg_2a01a042bca04ad9  2016-01-01 17:00:00  ...                2  Friday\n",
              "7  hpg_2a84dd9f4c140b82  2016-01-01 17:00:00  ...                2  Friday\n",
              "8  hpg_2ad179871696901f  2016-01-01 17:00:00  ...                2  Friday\n",
              "9  hpg_2c1d989eedb0ff83  2016-01-01 17:00:00  ...                6  Friday\n",
              "\n",
              "[10 rows x 5 columns]"
            ]
          },
          "metadata": {
            "tags": []
          },
          "execution_count": 199
        }
      ]
    },
    {
      "cell_type": "code",
      "metadata": {
        "id": "combPdysOCdO"
      },
      "source": [
        "hpg_reserve[\"day\"] = pd.to_datetime(hpg_reserve.visit_datetime).dt.dayofweek"
      ],
      "execution_count": 195,
      "outputs": []
    },
    {
      "cell_type": "code",
      "metadata": {
        "id": "VxOK0_PlO5hY"
      },
      "source": [
        "hpg_reserve['day']= hpg_reserve['day'].replace({0:'Monday', 1:\"Tuesday\", 2:\"Wednesday\", 3:\"Thursday\",\n",
        "                                                          4:\"Friday\",5:\"Saturday\", 6:\"Sunday\"})"
      ],
      "execution_count": 198,
      "outputs": []
    },
    {
      "cell_type": "code",
      "metadata": {
        "id": "n0HxtERjQNNs"
      },
      "source": [
        "newHPGr = hpg_reserve.groupby(['day'])['reserve_visitors'].agg('sum').to_frame('total_visitors').reset_index()"
      ],
      "execution_count": 200,
      "outputs": []
    },
    {
      "cell_type": "code",
      "metadata": {
        "id": "mzkikyv9QmRu",
        "outputId": "ee73e8c1-bea2-4052-d378-bb0f87baa6bd",
        "colab": {
          "base_uri": "https://localhost:8080/",
          "height": 254
        }
      },
      "source": [
        "newHPGr.head(7)\n"
      ],
      "execution_count": 203,
      "outputs": [
        {
          "output_type": "execute_result",
          "data": {
            "text/html": [
              "<div>\n",
              "<style scoped>\n",
              "    .dataframe tbody tr th:only-of-type {\n",
              "        vertical-align: middle;\n",
              "    }\n",
              "\n",
              "    .dataframe tbody tr th {\n",
              "        vertical-align: top;\n",
              "    }\n",
              "\n",
              "    .dataframe thead th {\n",
              "        text-align: right;\n",
              "    }\n",
              "</style>\n",
              "<table border=\"1\" class=\"dataframe\">\n",
              "  <thead>\n",
              "    <tr style=\"text-align: right;\">\n",
              "      <th></th>\n",
              "      <th>day</th>\n",
              "      <th>total_visitors</th>\n",
              "    </tr>\n",
              "  </thead>\n",
              "  <tbody>\n",
              "    <tr>\n",
              "      <th>0</th>\n",
              "      <td>Friday</td>\n",
              "      <td>2658732</td>\n",
              "    </tr>\n",
              "    <tr>\n",
              "      <th>1</th>\n",
              "      <td>Monday</td>\n",
              "      <td>813931</td>\n",
              "    </tr>\n",
              "    <tr>\n",
              "      <th>2</th>\n",
              "      <td>Saturday</td>\n",
              "      <td>2286390</td>\n",
              "    </tr>\n",
              "    <tr>\n",
              "      <th>3</th>\n",
              "      <td>Sunday</td>\n",
              "      <td>1015486</td>\n",
              "    </tr>\n",
              "    <tr>\n",
              "      <th>4</th>\n",
              "      <td>Thursday</td>\n",
              "      <td>1224419</td>\n",
              "    </tr>\n",
              "    <tr>\n",
              "      <th>5</th>\n",
              "      <td>Tuesday</td>\n",
              "      <td>932183</td>\n",
              "    </tr>\n",
              "    <tr>\n",
              "      <th>6</th>\n",
              "      <td>Wednesday</td>\n",
              "      <td>1218052</td>\n",
              "    </tr>\n",
              "  </tbody>\n",
              "</table>\n",
              "</div>"
            ],
            "text/plain": [
              "         day  total_visitors\n",
              "0     Friday         2658732\n",
              "1     Monday          813931\n",
              "2   Saturday         2286390\n",
              "3     Sunday         1015486\n",
              "4   Thursday         1224419\n",
              "5    Tuesday          932183\n",
              "6  Wednesday         1218052"
            ]
          },
          "metadata": {
            "tags": []
          },
          "execution_count": 203
        }
      ]
    },
    {
      "cell_type": "markdown",
      "metadata": {
        "id": "TAHcfRgdRzXT"
      },
      "source": [
        ""
      ]
    },
    {
      "cell_type": "code",
      "metadata": {
        "id": "aI_eyesIQ2zh",
        "outputId": "72835150-9ed3-47bc-9d75-8748cebac009",
        "colab": {
          "base_uri": "https://localhost:8080/",
          "height": 1000
        }
      },
      "source": [
        "plt.figure(figsize=(10,20))\n",
        "sns.set_style(\"whitegrid\")\n",
        "\n",
        "sns.barplot(x=\"day\", y = \"total_visitors\" , data = newHPGr)"
      ],
      "execution_count": 206,
      "outputs": [
        {
          "output_type": "execute_result",
          "data": {
            "text/plain": [
              "<matplotlib.axes._subplots.AxesSubplot at 0x7fd72e7ceef0>"
            ]
          },
          "metadata": {
            "tags": []
          },
          "execution_count": 206
        },
        {
          "output_type": "display_data",
          "data": {
            "image/png": "[encoded data removed]",
            "text/plain": [
              "<Figure size 720x1440 with 1 Axes>"
            ]
          },
          "metadata": {
            "tags": []
          }
        }
      ]
    },
    {
      "cell_type": "markdown",
      "metadata": {
        "id": "r8Rk97vER1FH"
      },
      "source": [
        "###Question 5\n"
      ]
    },
    {
      "cell_type": "code",
      "metadata": {
        "id": "2_uL1sz4R4Ly",
        "outputId": "5a3090c3-8797-454a-90a5-d2356453f6db",
        "colab": {
          "base_uri": "https://localhost:8080/",
          "height": 195
        }
      },
      "source": [
        "air_reserve.tail()"
      ],
      "execution_count": 214,
      "outputs": [
        {
          "output_type": "execute_result",
          "data": {
            "text/html": [
              "<div>\n",
              "<style scoped>\n",
              "    .dataframe tbody tr th:only-of-type {\n",
              "        vertical-align: middle;\n",
              "    }\n",
              "\n",
              "    .dataframe tbody tr th {\n",
              "        vertical-align: top;\n",
              "    }\n",
              "\n",
              "    .dataframe thead th {\n",
              "        text-align: right;\n",
              "    }\n",
              "</style>\n",
              "<table border=\"1\" class=\"dataframe\">\n",
              "  <thead>\n",
              "    <tr style=\"text-align: right;\">\n",
              "      <th></th>\n",
              "      <th>air_store_id</th>\n",
              "      <th>visit_datetime</th>\n",
              "      <th>reserve_datetime</th>\n",
              "      <th>reserve_visitors</th>\n",
              "    </tr>\n",
              "  </thead>\n",
              "  <tbody>\n",
              "    <tr>\n",
              "      <th>92373</th>\n",
              "      <td>air_db4b38ebe7a7ceff</td>\n",
              "      <td>2017-05-29 18:00:00</td>\n",
              "      <td>2017-04-17 19:00:00</td>\n",
              "      <td>6</td>\n",
              "    </tr>\n",
              "    <tr>\n",
              "      <th>92374</th>\n",
              "      <td>air_1033310359ceeac1</td>\n",
              "      <td>2017-05-30 23:00:00</td>\n",
              "      <td>2017-04-19 17:00:00</td>\n",
              "      <td>8</td>\n",
              "    </tr>\n",
              "    <tr>\n",
              "      <th>92375</th>\n",
              "      <td>air_877f79706adbfb06</td>\n",
              "      <td>2017-05-31 20:00:00</td>\n",
              "      <td>2017-04-12 23:00:00</td>\n",
              "      <td>3</td>\n",
              "    </tr>\n",
              "    <tr>\n",
              "      <th>92376</th>\n",
              "      <td>air_900d755ebd2f7bbd</td>\n",
              "      <td>2017-05-31 20:00:00</td>\n",
              "      <td>2017-04-19 16:00:00</td>\n",
              "      <td>10</td>\n",
              "    </tr>\n",
              "    <tr>\n",
              "      <th>92377</th>\n",
              "      <td>air_3cad29d1a23209d2</td>\n",
              "      <td>2017-05-31 21:00:00</td>\n",
              "      <td>2017-04-22 10:00:00</td>\n",
              "      <td>3</td>\n",
              "    </tr>\n",
              "  </tbody>\n",
              "</table>\n",
              "</div>"
            ],
            "text/plain": [
              "               air_store_id  ... reserve_visitors\n",
              "92373  air_db4b38ebe7a7ceff  ...                6\n",
              "92374  air_1033310359ceeac1  ...                8\n",
              "92375  air_877f79706adbfb06  ...                3\n",
              "92376  air_900d755ebd2f7bbd  ...               10\n",
              "92377  air_3cad29d1a23209d2  ...                3\n",
              "\n",
              "[5 rows x 4 columns]"
            ]
          },
          "metadata": {
            "tags": []
          },
          "execution_count": 214
        }
      ]
    },
    {
      "cell_type": "code",
      "metadata": {
        "id": "c1SHa69rW6fv",
        "outputId": "af19c129-e640-48ec-defa-269e3c11c182",
        "colab": {
          "base_uri": "https://localhost:8080/",
          "height": 195
        }
      },
      "source": [
        "air_store_info.head()"
      ],
      "execution_count": 221,
      "outputs": [
        {
          "output_type": "execute_result",
          "data": {
            "text/html": [
              "<div>\n",
              "<style scoped>\n",
              "    .dataframe tbody tr th:only-of-type {\n",
              "        vertical-align: middle;\n",
              "    }\n",
              "\n",
              "    .dataframe tbody tr th {\n",
              "        vertical-align: top;\n",
              "    }\n",
              "\n",
              "    .dataframe thead th {\n",
              "        text-align: right;\n",
              "    }\n",
              "</style>\n",
              "<table border=\"1\" class=\"dataframe\">\n",
              "  <thead>\n",
              "    <tr style=\"text-align: right;\">\n",
              "      <th></th>\n",
              "      <th>air_store_id</th>\n",
              "      <th>air_genre_name</th>\n",
              "      <th>air_area_name</th>\n",
              "      <th>latitude</th>\n",
              "      <th>longitude</th>\n",
              "      <th>type</th>\n",
              "    </tr>\n",
              "  </thead>\n",
              "  <tbody>\n",
              "    <tr>\n",
              "      <th>0</th>\n",
              "      <td>air_0f0cdeee6c9bf3d7</td>\n",
              "      <td>Italian/French</td>\n",
              "      <td>Hyōgo-ken Kōbe-shi Kumoidōri</td>\n",
              "      <td>34.695124</td>\n",
              "      <td>135.197852</td>\n",
              "      <td>Western food</td>\n",
              "    </tr>\n",
              "    <tr>\n",
              "      <th>1</th>\n",
              "      <td>air_7cc17a324ae5c7dc</td>\n",
              "      <td>Italian/French</td>\n",
              "      <td>Hyōgo-ken Kōbe-shi Kumoidōri</td>\n",
              "      <td>34.695124</td>\n",
              "      <td>135.197852</td>\n",
              "      <td>Western food</td>\n",
              "    </tr>\n",
              "    <tr>\n",
              "      <th>2</th>\n",
              "      <td>air_fee8dcf4d619598e</td>\n",
              "      <td>Italian/French</td>\n",
              "      <td>Hyōgo-ken Kōbe-shi Kumoidōri</td>\n",
              "      <td>34.695124</td>\n",
              "      <td>135.197852</td>\n",
              "      <td>Western food</td>\n",
              "    </tr>\n",
              "    <tr>\n",
              "      <th>3</th>\n",
              "      <td>air_a17f0778617c76e2</td>\n",
              "      <td>Italian/French</td>\n",
              "      <td>Hyōgo-ken Kōbe-shi Kumoidōri</td>\n",
              "      <td>34.695124</td>\n",
              "      <td>135.197852</td>\n",
              "      <td>Western food</td>\n",
              "    </tr>\n",
              "    <tr>\n",
              "      <th>4</th>\n",
              "      <td>air_83db5aff8f50478e</td>\n",
              "      <td>Italian/French</td>\n",
              "      <td>Tōkyō-to Minato-ku Shibakōen</td>\n",
              "      <td>35.658068</td>\n",
              "      <td>139.751599</td>\n",
              "      <td>Western food</td>\n",
              "    </tr>\n",
              "  </tbody>\n",
              "</table>\n",
              "</div>"
            ],
            "text/plain": [
              "           air_store_id  air_genre_name  ...   longitude          type\n",
              "0  air_0f0cdeee6c9bf3d7  Italian/French  ...  135.197852  Western food\n",
              "1  air_7cc17a324ae5c7dc  Italian/French  ...  135.197852  Western food\n",
              "2  air_fee8dcf4d619598e  Italian/French  ...  135.197852  Western food\n",
              "3  air_a17f0778617c76e2  Italian/French  ...  135.197852  Western food\n",
              "4  air_83db5aff8f50478e  Italian/French  ...  139.751599  Western food\n",
              "\n",
              "[5 rows x 6 columns]"
            ]
          },
          "metadata": {
            "tags": []
          },
          "execution_count": 221
        }
      ]
    },
    {
      "cell_type": "code",
      "metadata": {
        "id": "MHsPY5RnWU3-"
      },
      "source": [
        "x = air_store_info[[\"air_store_id\",\"type\"]]\n"
      ],
      "execution_count": 222,
      "outputs": []
    },
    {
      "cell_type": "code",
      "metadata": {
        "id": "o56AzL4VSde7",
        "outputId": "e1881e8b-8bc3-4b37-da9a-ef92292ec2df",
        "colab": {
          "base_uri": "https://localhost:8080/"
        }
      },
      "source": [
        "(pd.to_datetime(air_reserve.visit_datetime) - pd.to_datetime(air_reserve.reserve_datetime)).astype(\"timedelta64[h]\")"
      ],
      "execution_count": 229,
      "outputs": [
        {
          "output_type": "execute_result",
          "data": {
            "text/plain": [
              "0           3.0\n",
              "1           0.0\n",
              "2           0.0\n",
              "3           4.0\n",
              "4          19.0\n",
              "          ...  \n",
              "92373    1007.0\n",
              "92374     990.0\n",
              "92375    1173.0\n",
              "92376    1012.0\n",
              "92377     947.0\n",
              "Length: 92378, dtype: float64"
            ]
          },
          "metadata": {
            "tags": []
          },
          "execution_count": 229
        }
      ]
    },
    {
      "cell_type": "code",
      "metadata": {
        "id": "pbZEw2Y8TW5_",
        "outputId": "d3271764-b8ce-4006-cc09-df2e964f6d44",
        "colab": {
          "base_uri": "https://localhost:8080/"
        }
      },
      "source": [
        "air_reserve.shape, air_store_info.shape, final.shape"
      ],
      "execution_count": 226,
      "outputs": [
        {
          "output_type": "execute_result",
          "data": {
            "text/plain": [
              "((92378, 4), (829, 6), (92378, 5))"
            ]
          },
          "metadata": {
            "tags": []
          },
          "execution_count": 226
        }
      ]
    },
    {
      "cell_type": "code",
      "metadata": {
        "id": "dMIfSENbWexS"
      },
      "source": [
        "final = pd.merge(air_reserve,x,on=\"air_store_id\")"
      ],
      "execution_count": 223,
      "outputs": []
    },
    {
      "cell_type": "code",
      "metadata": {
        "id": "Jn9Xh6W9XtLX",
        "outputId": "3bb9fdba-00f8-4659-89f2-dcac5c1cab30",
        "colab": {
          "base_uri": "https://localhost:8080/",
          "height": 195
        }
      },
      "source": [
        "final.head()"
      ],
      "execution_count": 231,
      "outputs": [
        {
          "output_type": "execute_result",
          "data": {
            "text/html": [
              "<div>\n",
              "<style scoped>\n",
              "    .dataframe tbody tr th:only-of-type {\n",
              "        vertical-align: middle;\n",
              "    }\n",
              "\n",
              "    .dataframe tbody tr th {\n",
              "        vertical-align: top;\n",
              "    }\n",
              "\n",
              "    .dataframe thead th {\n",
              "        text-align: right;\n",
              "    }\n",
              "</style>\n",
              "<table border=\"1\" class=\"dataframe\">\n",
              "  <thead>\n",
              "    <tr style=\"text-align: right;\">\n",
              "      <th></th>\n",
              "      <th>air_store_id</th>\n",
              "      <th>visit_datetime</th>\n",
              "      <th>reserve_datetime</th>\n",
              "      <th>reserve_visitors</th>\n",
              "      <th>type</th>\n",
              "      <th>time_difference</th>\n",
              "    </tr>\n",
              "  </thead>\n",
              "  <tbody>\n",
              "    <tr>\n",
              "      <th>0</th>\n",
              "      <td>air_877f79706adbfb06</td>\n",
              "      <td>2016-01-01 19:00:00</td>\n",
              "      <td>2016-01-01 16:00:00</td>\n",
              "      <td>1</td>\n",
              "      <td>Asian</td>\n",
              "      <td>3.0</td>\n",
              "    </tr>\n",
              "    <tr>\n",
              "      <th>1</th>\n",
              "      <td>air_877f79706adbfb06</td>\n",
              "      <td>2016-01-01 20:00:00</td>\n",
              "      <td>2016-01-01 16:00:00</td>\n",
              "      <td>2</td>\n",
              "      <td>Asian</td>\n",
              "      <td>4.0</td>\n",
              "    </tr>\n",
              "    <tr>\n",
              "      <th>2</th>\n",
              "      <td>air_877f79706adbfb06</td>\n",
              "      <td>2016-01-02 18:00:00</td>\n",
              "      <td>2016-01-01 16:00:00</td>\n",
              "      <td>2</td>\n",
              "      <td>Asian</td>\n",
              "      <td>26.0</td>\n",
              "    </tr>\n",
              "    <tr>\n",
              "      <th>3</th>\n",
              "      <td>air_877f79706adbfb06</td>\n",
              "      <td>2016-01-02 21:00:00</td>\n",
              "      <td>2016-01-01 16:00:00</td>\n",
              "      <td>2</td>\n",
              "      <td>Asian</td>\n",
              "      <td>29.0</td>\n",
              "    </tr>\n",
              "    <tr>\n",
              "      <th>4</th>\n",
              "      <td>air_877f79706adbfb06</td>\n",
              "      <td>2016-01-08 21:00:00</td>\n",
              "      <td>2016-01-04 20:00:00</td>\n",
              "      <td>2</td>\n",
              "      <td>Asian</td>\n",
              "      <td>97.0</td>\n",
              "    </tr>\n",
              "  </tbody>\n",
              "</table>\n",
              "</div>"
            ],
            "text/plain": [
              "           air_store_id       visit_datetime  ...   type  time_difference\n",
              "0  air_877f79706adbfb06  2016-01-01 19:00:00  ...  Asian              3.0\n",
              "1  air_877f79706adbfb06  2016-01-01 20:00:00  ...  Asian              4.0\n",
              "2  air_877f79706adbfb06  2016-01-02 18:00:00  ...  Asian             26.0\n",
              "3  air_877f79706adbfb06  2016-01-02 21:00:00  ...  Asian             29.0\n",
              "4  air_877f79706adbfb06  2016-01-08 21:00:00  ...  Asian             97.0\n",
              "\n",
              "[5 rows x 6 columns]"
            ]
          },
          "metadata": {
            "tags": []
          },
          "execution_count": 231
        }
      ]
    },
    {
      "cell_type": "code",
      "metadata": {
        "id": "EZ1tWShAZgf8"
      },
      "source": [
        "final['time_difference'] = (pd.to_datetime(final.visit_datetime) - pd.to_datetime(final.reserve_datetime)).astype(\"timedelta64[h]\")"
      ],
      "execution_count": 230,
      "outputs": []
    },
    {
      "cell_type": "code",
      "metadata": {
        "id": "WynJ5fpNaJfr",
        "outputId": "1d1764d1-4095-4a00-e754-ab9a771dffdd",
        "colab": {
          "base_uri": "https://localhost:8080/",
          "height": 350
        }
      },
      "source": [
        "sns.boxplot(final['time_difference'])"
      ],
      "execution_count": 232,
      "outputs": [
        {
          "output_type": "stream",
          "text": [
            "/usr/local/lib/python3.6/dist-packages/seaborn/_decorators.py:43: FutureWarning: Pass the following variable as a keyword arg: x. From version 0.12, the only valid positional argument will be `data`, and passing other arguments without an explicit keyword will result in an error or misinterpretation.\n",
            "  FutureWarning\n"
          ],
          "name": "stderr"
        },
        {
          "output_type": "execute_result",
          "data": {
            "text/plain": [
              "<matplotlib.axes._subplots.AxesSubplot at 0x7fd739c4f8d0>"
            ]
          },
          "metadata": {
            "tags": []
          },
          "execution_count": 232
        },
        {
          "output_type": "display_data",
          "data": {
            "image/png": "[encoded data removed]",
            "text/plain": [
              "<Figure size 432x288 with 1 Axes>"
            ]
          },
          "metadata": {
            "tags": []
          }
        }
      ]
    },
    {
      "cell_type": "code",
      "metadata": {
        "id": "H8fOoTQcbbau",
        "outputId": "c3a2a3d7-cdf8-4f88-f051-330e0198a38e",
        "colab": {
          "base_uri": "https://localhost:8080/",
          "height": 284
        }
      },
      "source": [
        "final.describe()"
      ],
      "execution_count": 233,
      "outputs": [
        {
          "output_type": "execute_result",
          "data": {
            "text/html": [
              "<div>\n",
              "<style scoped>\n",
              "    .dataframe tbody tr th:only-of-type {\n",
              "        vertical-align: middle;\n",
              "    }\n",
              "\n",
              "    .dataframe tbody tr th {\n",
              "        vertical-align: top;\n",
              "    }\n",
              "\n",
              "    .dataframe thead th {\n",
              "        text-align: right;\n",
              "    }\n",
              "</style>\n",
              "<table border=\"1\" class=\"dataframe\">\n",
              "  <thead>\n",
              "    <tr style=\"text-align: right;\">\n",
              "      <th></th>\n",
              "      <th>reserve_visitors</th>\n",
              "      <th>time_difference</th>\n",
              "    </tr>\n",
              "  </thead>\n",
              "  <tbody>\n",
              "    <tr>\n",
              "      <th>count</th>\n",
              "      <td>92378.000000</td>\n",
              "      <td>92378.000000</td>\n",
              "    </tr>\n",
              "    <tr>\n",
              "      <th>mean</th>\n",
              "      <td>4.481749</td>\n",
              "      <td>199.097512</td>\n",
              "    </tr>\n",
              "    <tr>\n",
              "      <th>std</th>\n",
              "      <td>4.919669</td>\n",
              "      <td>615.662749</td>\n",
              "    </tr>\n",
              "    <tr>\n",
              "      <th>min</th>\n",
              "      <td>1.000000</td>\n",
              "      <td>0.000000</td>\n",
              "    </tr>\n",
              "    <tr>\n",
              "      <th>25%</th>\n",
              "      <td>2.000000</td>\n",
              "      <td>5.000000</td>\n",
              "    </tr>\n",
              "    <tr>\n",
              "      <th>50%</th>\n",
              "      <td>3.000000</td>\n",
              "      <td>50.000000</td>\n",
              "    </tr>\n",
              "    <tr>\n",
              "      <th>75%</th>\n",
              "      <td>5.000000</td>\n",
              "      <td>189.000000</td>\n",
              "    </tr>\n",
              "    <tr>\n",
              "      <th>max</th>\n",
              "      <td>100.000000</td>\n",
              "      <td>9435.000000</td>\n",
              "    </tr>\n",
              "  </tbody>\n",
              "</table>\n",
              "</div>"
            ],
            "text/plain": [
              "       reserve_visitors  time_difference\n",
              "count      92378.000000     92378.000000\n",
              "mean           4.481749       199.097512\n",
              "std            4.919669       615.662749\n",
              "min            1.000000         0.000000\n",
              "25%            2.000000         5.000000\n",
              "50%            3.000000        50.000000\n",
              "75%            5.000000       189.000000\n",
              "max          100.000000      9435.000000"
            ]
          },
          "metadata": {
            "tags": []
          },
          "execution_count": 233
        }
      ]
    },
    {
      "cell_type": "code",
      "metadata": {
        "id": "62s68wrDbpao"
      },
      "source": [
        "newFinal = final[final.time_difference<=200]"
      ],
      "execution_count": 234,
      "outputs": []
    },
    {
      "cell_type": "code",
      "metadata": {
        "id": "bUEwdUnEbz6H",
        "outputId": "a4cc0344-c4ce-4d8b-b4e0-3628b5bbc80b",
        "colab": {
          "base_uri": "https://localhost:8080/",
          "height": 195
        }
      },
      "source": [
        "newFinal.head()"
      ],
      "execution_count": 236,
      "outputs": [
        {
          "output_type": "execute_result",
          "data": {
            "text/html": [
              "<div>\n",
              "<style scoped>\n",
              "    .dataframe tbody tr th:only-of-type {\n",
              "        vertical-align: middle;\n",
              "    }\n",
              "\n",
              "    .dataframe tbody tr th {\n",
              "        vertical-align: top;\n",
              "    }\n",
              "\n",
              "    .dataframe thead th {\n",
              "        text-align: right;\n",
              "    }\n",
              "</style>\n",
              "<table border=\"1\" class=\"dataframe\">\n",
              "  <thead>\n",
              "    <tr style=\"text-align: right;\">\n",
              "      <th></th>\n",
              "      <th>air_store_id</th>\n",
              "      <th>visit_datetime</th>\n",
              "      <th>reserve_datetime</th>\n",
              "      <th>reserve_visitors</th>\n",
              "      <th>type</th>\n",
              "      <th>time_difference</th>\n",
              "    </tr>\n",
              "  </thead>\n",
              "  <tbody>\n",
              "    <tr>\n",
              "      <th>0</th>\n",
              "      <td>air_877f79706adbfb06</td>\n",
              "      <td>2016-01-01 19:00:00</td>\n",
              "      <td>2016-01-01 16:00:00</td>\n",
              "      <td>1</td>\n",
              "      <td>Asian</td>\n",
              "      <td>3.0</td>\n",
              "    </tr>\n",
              "    <tr>\n",
              "      <th>1</th>\n",
              "      <td>air_877f79706adbfb06</td>\n",
              "      <td>2016-01-01 20:00:00</td>\n",
              "      <td>2016-01-01 16:00:00</td>\n",
              "      <td>2</td>\n",
              "      <td>Asian</td>\n",
              "      <td>4.0</td>\n",
              "    </tr>\n",
              "    <tr>\n",
              "      <th>2</th>\n",
              "      <td>air_877f79706adbfb06</td>\n",
              "      <td>2016-01-02 18:00:00</td>\n",
              "      <td>2016-01-01 16:00:00</td>\n",
              "      <td>2</td>\n",
              "      <td>Asian</td>\n",
              "      <td>26.0</td>\n",
              "    </tr>\n",
              "    <tr>\n",
              "      <th>3</th>\n",
              "      <td>air_877f79706adbfb06</td>\n",
              "      <td>2016-01-02 21:00:00</td>\n",
              "      <td>2016-01-01 16:00:00</td>\n",
              "      <td>2</td>\n",
              "      <td>Asian</td>\n",
              "      <td>29.0</td>\n",
              "    </tr>\n",
              "    <tr>\n",
              "      <th>4</th>\n",
              "      <td>air_877f79706adbfb06</td>\n",
              "      <td>2016-01-08 21:00:00</td>\n",
              "      <td>2016-01-04 20:00:00</td>\n",
              "      <td>2</td>\n",
              "      <td>Asian</td>\n",
              "      <td>97.0</td>\n",
              "    </tr>\n",
              "  </tbody>\n",
              "</table>\n",
              "</div>"
            ],
            "text/plain": [
              "           air_store_id       visit_datetime  ...   type  time_difference\n",
              "0  air_877f79706adbfb06  2016-01-01 19:00:00  ...  Asian              3.0\n",
              "1  air_877f79706adbfb06  2016-01-01 20:00:00  ...  Asian              4.0\n",
              "2  air_877f79706adbfb06  2016-01-02 18:00:00  ...  Asian             26.0\n",
              "3  air_877f79706adbfb06  2016-01-02 21:00:00  ...  Asian             29.0\n",
              "4  air_877f79706adbfb06  2016-01-08 21:00:00  ...  Asian             97.0\n",
              "\n",
              "[5 rows x 6 columns]"
            ]
          },
          "metadata": {
            "tags": []
          },
          "execution_count": 236
        }
      ]
    },
    {
      "cell_type": "code",
      "metadata": {
        "id": "tKtnl6h4b-AV"
      },
      "source": [
        "newFinal2 = newFinal.groupby(['type'])['time_difference'].agg('mean').to_frame('average_time').reset_index()"
      ],
      "execution_count": 237,
      "outputs": []
    },
    {
      "cell_type": "code",
      "metadata": {
        "id": "STR0glwsckE5",
        "outputId": "4c51767d-9e2a-4afb-b046-bba30338abaa",
        "colab": {
          "base_uri": "https://localhost:8080/",
          "height": 195
        }
      },
      "source": [
        "newFinal2.head(10)"
      ],
      "execution_count": 240,
      "outputs": [
        {
          "output_type": "execute_result",
          "data": {
            "text/html": [
              "<div>\n",
              "<style scoped>\n",
              "    .dataframe tbody tr th:only-of-type {\n",
              "        vertical-align: middle;\n",
              "    }\n",
              "\n",
              "    .dataframe tbody tr th {\n",
              "        vertical-align: top;\n",
              "    }\n",
              "\n",
              "    .dataframe thead th {\n",
              "        text-align: right;\n",
              "    }\n",
              "</style>\n",
              "<table border=\"1\" class=\"dataframe\">\n",
              "  <thead>\n",
              "    <tr style=\"text-align: right;\">\n",
              "      <th></th>\n",
              "      <th>type</th>\n",
              "      <th>average_time</th>\n",
              "    </tr>\n",
              "  </thead>\n",
              "  <tbody>\n",
              "    <tr>\n",
              "      <th>0</th>\n",
              "      <td>Asian</td>\n",
              "      <td>49.541402</td>\n",
              "    </tr>\n",
              "    <tr>\n",
              "      <th>1</th>\n",
              "      <td>Bar/Cocktail</td>\n",
              "      <td>57.726388</td>\n",
              "    </tr>\n",
              "    <tr>\n",
              "      <th>2</th>\n",
              "      <td>International cuisine</td>\n",
              "      <td>48.159263</td>\n",
              "    </tr>\n",
              "    <tr>\n",
              "      <th>3</th>\n",
              "      <td>Other</td>\n",
              "      <td>38.478743</td>\n",
              "    </tr>\n",
              "    <tr>\n",
              "      <th>4</th>\n",
              "      <td>Western food</td>\n",
              "      <td>45.448593</td>\n",
              "    </tr>\n",
              "  </tbody>\n",
              "</table>\n",
              "</div>"
            ],
            "text/plain": [
              "                    type  average_time\n",
              "0                  Asian     49.541402\n",
              "1           Bar/Cocktail     57.726388\n",
              "2  International cuisine     48.159263\n",
              "3                  Other     38.478743\n",
              "4           Western food     45.448593"
            ]
          },
          "metadata": {
            "tags": []
          },
          "execution_count": 240
        }
      ]
    },
    {
      "cell_type": "code",
      "metadata": {
        "id": "YGe5wTY5cpPf",
        "outputId": "86f066c1-b769-4e38-8d3e-ee028df50f9d",
        "colab": {
          "base_uri": "https://localhost:8080/",
          "height": 352
        }
      },
      "source": [
        "plt.figure(figsize=(10,5))\n",
        "sns.set_style(\"whitegrid\")\n",
        "\n",
        "sns.barplot(x=\"type\", y = \"average_time\" , data = newFinal2)"
      ],
      "execution_count": 242,
      "outputs": [
        {
          "output_type": "execute_result",
          "data": {
            "text/plain": [
              "<matplotlib.axes._subplots.AxesSubplot at 0x7fd738a32630>"
            ]
          },
          "metadata": {
            "tags": []
          },
          "execution_count": 242
        },
        {
          "output_type": "display_data",
          "data": {
            "image/png": "[encoded data removed]",
            "text/plain": [
              "<Figure size 720x360 with 1 Axes>"
            ]
          },
          "metadata": {
            "tags": []
          }
        }
      ]
    }
  ]
}